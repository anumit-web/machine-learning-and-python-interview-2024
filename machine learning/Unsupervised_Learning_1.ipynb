{
  "cells": [
    {
      "cell_type": "markdown",
      "metadata": {
        "id": "view-in-github",
        "colab_type": "text"
      },
      "source": [
        "<a href=\"https://colab.research.google.com/github/anumit-web/python-interview-2024/blob/main/machine%20learning/Unsupervised_Learning_1.ipynb\" target=\"_parent\"><img src=\"https://colab.research.google.com/assets/colab-badge.svg\" alt=\"Open In Colab\"/></a>"
      ]
    },
    {
      "cell_type": "markdown",
      "source": [
        "# Python interview preparation"
      ],
      "metadata": {
        "id": "e8lzIrkY9qBJ"
      }
    },
    {
      "cell_type": "markdown",
      "source": [
        "# Chapter 2"
      ],
      "metadata": {
        "id": "SQbEzTCeR_oT"
      }
    },
    {
      "cell_type": "markdown",
      "source": [
        "# Unsupervised Learning"
      ],
      "metadata": {
        "id": "xjpcRgDqthNV"
      }
    },
    {
      "cell_type": "markdown",
      "source": [
        "Unsupervised learning is a type of machine learning algorithm used to draw inferences from datasets without human intervention, in contrast to supervised learning where labels are provided along with the data."
      ],
      "metadata": {
        "id": "I6ktt50staLM"
      }
    },
    {
      "cell_type": "markdown",
      "source": [
        "The most common unsupervised learning method is clustering, which applies **clustering** methods to find patterns to create groupings in data.\n",
        "\n",
        "This algorithm creates groups of data as output. 👈🏻"
      ],
      "metadata": {
        "id": "tsgdEda7tv8X"
      }
    },
    {
      "cell_type": "markdown",
      "source": [
        "--------"
      ],
      "metadata": {
        "id": "ZTSSAepX1v3a"
      }
    },
    {
      "cell_type": "markdown",
      "source": [
        "Popular algorithms for Unsupervised learning -\n",
        "\n",
        "\n",
        "\n",
        "**Hierarchical clustering**: Builds a multilevel hierarchy of clusters by creating a cluster tree\n",
        "\n",
        "**k-Means clustering**: Partitions data into k distinct clusters based on distance.\n",
        "\n",
        "**Gaussian mixture models**: Models clusters as a mixture of multivariate normal density components\n",
        "\n",
        "**Density-based spatial clustering (DBSCAN)**: Groups points that are close to each other in areas of high density, keeping track of outliers in low-density regions"
      ],
      "metadata": {
        "id": "ukXTGGvntYNt"
      }
    },
    {
      "cell_type": "markdown",
      "source": [
        "------"
      ],
      "metadata": {
        "id": "ixXhXvyr11Gt"
      }
    },
    {
      "cell_type": "markdown",
      "source": [
        "Here are some unsupervised learning algorithms:\n",
        "\n",
        "**Apriori**: An algorithm used to identify related sets of items\n",
        "\n",
        "**Eclat**: An algorithm used for association rule learning\n",
        "\n",
        "**FP-growth**: An algorithm used for association rule learning\n",
        "\n",
        "**DBSCAN**: A density-based clustering algorithm that works based on the density of objects\n",
        "\n",
        "**t-SNE**: A nonlinear dimensionality reduction algorithm that can convert high-dimensional data into 2D or 3D\n",
        "\n"
      ],
      "metadata": {
        "id": "xbf30SEayNXH"
      }
    },
    {
      "cell_type": "markdown",
      "source": [
        "----"
      ],
      "metadata": {
        "id": "lDXKclqC2C7g"
      }
    },
    {
      "cell_type": "markdown",
      "source": [
        "Unsupervised learning algorithms can be used for a variety of tasks, including:\n",
        "\n",
        "**Clustering**: Groups unlabeled data based on similarities or differences\n",
        "\n",
        "**Association**: Finds relationships between variables in a dataset\n",
        "\n",
        "**Dimensionality reduction**: Reduces the number of data inputs to a manageable\n"
      ],
      "metadata": {
        "id": "JZpOLAlrvwXM"
      }
    },
    {
      "cell_type": "markdown",
      "source": [
        "\n",
        "(matlab blog)[https://www.mathworks.com/discovery/unsupervised-learning.html]"
      ],
      "metadata": {
        "id": "kHnehKiRvwv2"
      }
    },
    {
      "cell_type": "markdown",
      "source": [],
      "metadata": {
        "id": "2EBLxkMcvxTl"
      }
    },
    {
      "cell_type": "markdown",
      "source": [],
      "metadata": {
        "id": "_dXQcVCCtYSs"
      }
    },
    {
      "cell_type": "markdown",
      "source": [],
      "metadata": {
        "id": "6J3GfaMdtYe_"
      }
    },
    {
      "cell_type": "markdown",
      "source": [],
      "metadata": {
        "id": "ZgWJ3w7etYom"
      }
    },
    {
      "cell_type": "code",
      "execution_count": 18,
      "metadata": {
        "id": "3pRBaqLz9atZ"
      },
      "outputs": [],
      "source": [
        "import numpy as np\n",
        "import pandas as pd"
      ]
    },
    {
      "cell_type": "code",
      "source": [
        "import sys\n",
        "\n",
        "print(sys.version)"
      ],
      "metadata": {
        "colab": {
          "base_uri": "https://localhost:8080/"
        },
        "id": "TFXpB4wv-5-1",
        "outputId": "05990564-37f5-49e9-94ee-403a7d81895f"
      },
      "execution_count": 19,
      "outputs": [
        {
          "output_type": "stream",
          "name": "stdout",
          "text": [
            "3.10.12 (main, Sep 11 2024, 15:47:36) [GCC 11.4.0]\n"
          ]
        }
      ]
    },
    {
      "cell_type": "code",
      "execution_count": 20,
      "metadata": {
        "colab": {
          "base_uri": "https://localhost:8080/"
        },
        "id": "N0djESK29att",
        "outputId": "cbd2365b-0e3c-4bc2-9663-3cf367aed01b"
      },
      "outputs": [
        {
          "output_type": "stream",
          "name": "stdout",
          "text": [
            "Hello, World!\n"
          ]
        }
      ],
      "source": [
        "print(\"Hello, World!\")"
      ]
    },
    {
      "cell_type": "markdown",
      "source": [
        "# Python Numbers"
      ],
      "metadata": {
        "id": "s5V5NU98dBpL"
      }
    },
    {
      "cell_type": "code",
      "source": [],
      "metadata": {
        "id": "hGTxNSnkGUDE"
      },
      "execution_count": 20,
      "outputs": []
    },
    {
      "cell_type": "markdown",
      "source": [],
      "metadata": {
        "id": "xleeX2l6SyvX"
      }
    }
  ],
  "metadata": {
    "kernelspec": {
      "display_name": "Python 3 (Anaconda)",
      "language": "python",
      "name": "anaconda3"
    },
    "language_info": {
      "codemirror_mode": {
        "name": "ipython",
        "version": 3
      },
      "file_extension": ".py",
      "mimetype": "text/x-python",
      "name": "python",
      "nbconvert_exporter": "python",
      "pygments_lexer": "ipython3",
      "version": "3.5.4"
    },
    "colab": {
      "provenance": [],
      "include_colab_link": true
    }
  },
  "nbformat": 4,
  "nbformat_minor": 0
}
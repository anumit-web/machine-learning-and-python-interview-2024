{
  "cells": [
    {
      "cell_type": "markdown",
      "metadata": {
        "id": "view-in-github",
        "colab_type": "text"
      },
      "source": [
        "<a href=\"https://colab.research.google.com/github/anumit-web/python-interview-2024/blob/main/machine%20learning/Supervised_Learning_1.ipynb\" target=\"_parent\"><img src=\"https://colab.research.google.com/assets/colab-badge.svg\" alt=\"Open In Colab\"/></a>"
      ]
    },
    {
      "cell_type": "markdown",
      "source": [
        "# Python interview preparation"
      ],
      "metadata": {
        "id": "e8lzIrkY9qBJ"
      }
    },
    {
      "cell_type": "markdown",
      "source": [
        "# Chapter 1"
      ],
      "metadata": {
        "id": "SQbEzTCeR_oT"
      }
    },
    {
      "cell_type": "markdown",
      "source": [
        "Supervised learning is the most common type of machine learning algorithms.\n",
        "\n",
        "It uses a known dataset (called the training dataset) to train an algorithm with a known set of input data (called features) and known responses to make predictions.\n",
        "\n",
        "It uses traning dataset and test dataset."
      ],
      "metadata": {
        "id": "_GaYuvgCVc9K"
      }
    },
    {
      "cell_type": "markdown",
      "source": [
        "To obtain accurate performance results, it is critical that both the training and test set are a good representation of “reality”"
      ],
      "metadata": {
        "id": "qrTf_2qqWXP8"
      }
    },
    {
      "cell_type": "markdown",
      "source": [
        "Supervised Learning Algorithms Categories\n",
        "1. Classification\n",
        "2. Regression"
      ],
      "metadata": {
        "id": "VJqKdZexWvTO"
      }
    },
    {
      "cell_type": "markdown",
      "source": [
        "Classification: Used for categorical response values, where the data can be separated into specific classes.\n",
        "\n",
        "A binary classification model has two classes and a multiclass classification model has more."
      ],
      "metadata": {
        "id": "aENpDqYRXEY7"
      }
    },
    {
      "cell_type": "markdown",
      "source": [
        "Regression: Used for numerical continuous-response values."
      ],
      "metadata": {
        "id": "GuvnmyFxXWj8"
      }
    },
    {
      "cell_type": "markdown",
      "source": [
        "\n",
        "\n",
        "(Link 1)[https://www.mathworks.com/discovery/supervised-learning.html?s_tid=srchtitle_site_search_1_supervised%20learning%20]"
      ],
      "metadata": {
        "id": "WqHz89knVB71"
      }
    },
    {
      "cell_type": "markdown",
      "source": [
        "# Python"
      ],
      "metadata": {
        "id": "qtdhbVWBSiEr"
      }
    },
    {
      "cell_type": "code",
      "execution_count": 7,
      "metadata": {
        "id": "3pRBaqLz9atZ"
      },
      "outputs": [],
      "source": [
        "import numpy as np\n",
        "import pandas as pd"
      ]
    },
    {
      "cell_type": "code",
      "source": [
        "import sys\n",
        "\n",
        "print(sys.version)"
      ],
      "metadata": {
        "colab": {
          "base_uri": "https://localhost:8080/"
        },
        "id": "TFXpB4wv-5-1",
        "outputId": "1c8d49d0-575e-4dec-c617-75bf9d62db17"
      },
      "execution_count": 8,
      "outputs": [
        {
          "output_type": "stream",
          "name": "stdout",
          "text": [
            "3.10.12 (main, Sep 11 2024, 15:47:36) [GCC 11.4.0]\n"
          ]
        }
      ]
    },
    {
      "cell_type": "code",
      "execution_count": 9,
      "metadata": {
        "colab": {
          "base_uri": "https://localhost:8080/"
        },
        "id": "N0djESK29att",
        "outputId": "b4fe23e4-0180-4604-99b8-b6db1b9eb5ea"
      },
      "outputs": [
        {
          "output_type": "stream",
          "name": "stdout",
          "text": [
            "Hello, World!\n"
          ]
        }
      ],
      "source": [
        "print(\"Hello, World!\")"
      ]
    },
    {
      "cell_type": "markdown",
      "source": [
        "# Python Numbers"
      ],
      "metadata": {
        "id": "s5V5NU98dBpL"
      }
    },
    {
      "cell_type": "code",
      "source": [],
      "metadata": {
        "id": "hGTxNSnkGUDE"
      },
      "execution_count": 9,
      "outputs": []
    },
    {
      "cell_type": "markdown",
      "source": [],
      "metadata": {
        "id": "xleeX2l6SyvX"
      }
    }
  ],
  "metadata": {
    "kernelspec": {
      "display_name": "Python 3 (Anaconda)",
      "language": "python",
      "name": "anaconda3"
    },
    "language_info": {
      "codemirror_mode": {
        "name": "ipython",
        "version": 3
      },
      "file_extension": ".py",
      "mimetype": "text/x-python",
      "name": "python",
      "nbconvert_exporter": "python",
      "pygments_lexer": "ipython3",
      "version": "3.5.4"
    },
    "colab": {
      "provenance": [],
      "toc_visible": true,
      "include_colab_link": true
    }
  },
  "nbformat": 4,
  "nbformat_minor": 0
}
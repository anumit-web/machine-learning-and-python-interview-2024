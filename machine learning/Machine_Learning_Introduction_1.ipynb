{
  "cells": [
    {
      "cell_type": "markdown",
      "metadata": {
        "id": "view-in-github"
      },
      "source": [
        "<a href=\"https://colab.research.google.com/github/anumit-web/python-interview-2024/blob/main/machine%20learning/Unsupervised_Learning_clustering_type_iris_flower_clustering_Gaussian_mixture_model_(GMM).ipynb\" target=\"_parent\"><img src=\"https://colab.research.google.com/assets/colab-badge.svg\" alt=\"Open In Colab\"/></a>"
      ]
    },
    {
      "cell_type": "markdown",
      "metadata": {
        "id": "e8lzIrkY9qBJ"
      },
      "source": [
        "# Python interview preparation"
      ]
    },
    {
      "cell_type": "markdown",
      "source": [
        "# Python"
      ],
      "metadata": {
        "id": "tomuVIUl9uY6"
      }
    },
    {
      "cell_type": "markdown",
      "source": [
        "# Chapter 1"
      ],
      "metadata": {
        "id": "Ow1vTaKl9oHQ"
      }
    },
    {
      "cell_type": "markdown",
      "metadata": {
        "id": "q8Vn6fvLFJGH"
      },
      "source": [
        "# Machine Learning"
      ]
    },
    {
      "cell_type": "markdown",
      "source": [
        "Machine learning algorithms find natural patterns in data that generate insight and help you make better decisions and predictions.\n",
        "\n",
        "They are used every day to make critical decisions in medical diagnosis, stock trading, energy load forecasting, and more.\n",
        "\n",
        "Media sites rely on machine learning to sift through millions of options to give you song or movie recommendations.\n",
        "\n",
        "Retailers use it to gain insight into their customers’ purchasing behavior."
      ],
      "metadata": {
        "id": "YTDA0Al58_CU"
      }
    },
    {
      "cell_type": "markdown",
      "source": [
        "# Machine Learning\n",
        "## 1. Supervised\n",
        "## 2. Unsupervised"
      ],
      "metadata": {
        "id": "p29vGxA4-VOM"
      }
    },
    {
      "cell_type": "markdown",
      "source": [
        "---"
      ],
      "metadata": {
        "id": "j9ouYk0_bwKn"
      }
    },
    {
      "cell_type": "markdown",
      "source": [
        "---"
      ],
      "metadata": {
        "id": "gij_SlINbzog"
      }
    },
    {
      "cell_type": "markdown",
      "source": [
        "# Machine Learning\n",
        "\n",
        "\n",
        "\n",
        "1.   Supervised Learning\n",
        "    1. Classification\n",
        "    2. Regression\n",
        "\n",
        "\n",
        "2.   Unsupervised Learning\n",
        "\n",
        "    1. Clustering"
      ],
      "metadata": {
        "id": "jFTWkLMhEBk8"
      }
    },
    {
      "cell_type": "markdown",
      "source": [
        "---"
      ],
      "metadata": {
        "id": "BTt7wDxtb3RS"
      }
    },
    {
      "cell_type": "markdown",
      "source": [
        "# Algorihms of Machine Learning\n",
        "\n",
        "# Machine Learning\n",
        "1. Supervised Learning\n",
        "    1. Classification\n",
        "        1. K-nearest neighbor (KNN)\n",
        "        2. Naive Bayes\n",
        "        3. Discriminant Analysis\n",
        "        4. Support Vector Machines (SVM)\n",
        "    2. Regression\n",
        "        1. Clustering\n",
        "        2. Association\n",
        "        3. Principal Component Analysis (PCA)\n",
        "        "
      ],
      "metadata": {
        "id": "Bc41Ed-VYNZj"
      }
    },
    {
      "cell_type": "markdown",
      "source": [],
      "metadata": {
        "id": "qKQyQ5PxFbRq"
      }
    },
    {
      "cell_type": "markdown",
      "source": [
        "---"
      ],
      "metadata": {
        "id": "TGT_Khsp-Q7r"
      }
    },
    {
      "cell_type": "code",
      "execution_count": null,
      "metadata": {
        "id": "3pRBaqLz9atZ"
      },
      "outputs": [],
      "source": [
        "import numpy as np\n",
        "import pandas as pd"
      ]
    },
    {
      "cell_type": "code",
      "execution_count": null,
      "metadata": {
        "id": "TFXpB4wv-5-1",
        "colab": {
          "base_uri": "https://localhost:8080/"
        },
        "outputId": "9eb398d0-8b07-47e9-8f80-591ce330e664"
      },
      "outputs": [
        {
          "output_type": "stream",
          "name": "stdout",
          "text": [
            "3.10.12 (main, Sep 11 2024, 15:47:36) [GCC 11.4.0]\n"
          ]
        }
      ],
      "source": [
        "import sys\n",
        "\n",
        "print(sys.version)"
      ]
    },
    {
      "cell_type": "code",
      "execution_count": null,
      "metadata": {
        "colab": {
          "base_uri": "https://localhost:8080/"
        },
        "id": "N0djESK29att",
        "outputId": "2a3609f9-de99-4918-f4bc-f898b7014d13"
      },
      "outputs": [
        {
          "output_type": "stream",
          "name": "stdout",
          "text": [
            "Hello, World!\n"
          ]
        }
      ],
      "source": [
        "print(\"Hello, World!\")"
      ]
    },
    {
      "cell_type": "code",
      "execution_count": null,
      "metadata": {
        "id": "nfFMli_AEOK2"
      },
      "outputs": [],
      "source": []
    },
    {
      "cell_type": "markdown",
      "source": [
        "# Python code"
      ],
      "metadata": {
        "id": "MR391vUc7l-N"
      }
    },
    {
      "cell_type": "code",
      "execution_count": null,
      "metadata": {
        "id": "Il5GhWFYEOsa"
      },
      "outputs": [],
      "source": []
    },
    {
      "cell_type": "code",
      "execution_count": null,
      "metadata": {
        "id": "laFvPGe_EPHf"
      },
      "outputs": [],
      "source": []
    },
    {
      "cell_type": "code",
      "execution_count": null,
      "metadata": {
        "id": "2d4r9-x8EPmJ"
      },
      "outputs": [],
      "source": []
    },
    {
      "cell_type": "code",
      "execution_count": null,
      "metadata": {
        "id": "pM4D78FVEQFG"
      },
      "outputs": [],
      "source": []
    },
    {
      "cell_type": "code",
      "execution_count": null,
      "metadata": {
        "id": "AC_KZzEdEQhJ"
      },
      "outputs": [],
      "source": []
    },
    {
      "cell_type": "markdown",
      "source": [
        "(Link 1)[https://www.mathworks.com/campaigns/offers/next/machine-learning-with-matlab.html]\n",
        "\n",
        "[link text] (https://www.simplilearn.com/10-algorithms-machine-learning-engineers-need-to-know-article)"
      ],
      "metadata": {
        "id": "AZC8dY2t9fts"
      }
    }
  ],
  "metadata": {
    "colab": {
      "provenance": []
    },
    "kernelspec": {
      "display_name": "Python 3 (Anaconda)",
      "language": "python",
      "name": "anaconda3"
    },
    "language_info": {
      "codemirror_mode": {
        "name": "ipython",
        "version": 3
      },
      "file_extension": ".py",
      "mimetype": "text/x-python",
      "name": "python",
      "nbconvert_exporter": "python",
      "pygments_lexer": "ipython3",
      "version": "3.5.4"
    }
  },
  "nbformat": 4,
  "nbformat_minor": 0
}
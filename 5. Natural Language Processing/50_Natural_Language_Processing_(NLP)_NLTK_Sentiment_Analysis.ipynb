{
  "cells": [
    {
      "cell_type": "markdown",
      "metadata": {
        "id": "view-in-github"
      },
      "source": [
        "<a href=\"https://colab.research.google.com/github/anumit-web/python-interview-2024/blob/main/machine%20learning/Unsupervised_Learning_clustering_type_iris_flower_clustering_Gaussian_mixture_model_(GMM).ipynb\" target=\"_parent\"><img src=\"https://colab.research.google.com/assets/colab-badge.svg\" alt=\"Open In Colab\"/></a>"
      ]
    },
    {
      "cell_type": "markdown",
      "source": [],
      "metadata": {
        "id": "q_lhvb-UXLbF"
      }
    },
    {
      "cell_type": "markdown",
      "metadata": {
        "id": "e8lzIrkY9qBJ"
      },
      "source": [
        "# Python interview preparation"
      ]
    },
    {
      "cell_type": "markdown",
      "source": [
        "# Natural Language Processing (NLP)"
      ],
      "metadata": {
        "id": "tomuVIUl9uY6"
      }
    },
    {
      "cell_type": "markdown",
      "source": [
        "# Sentiment Analysis"
      ],
      "metadata": {
        "id": "kHzWKBvDszBY"
      }
    },
    {
      "cell_type": "markdown",
      "source": [
        "# Chapter 1"
      ],
      "metadata": {
        "id": "Ow1vTaKl9oHQ"
      }
    },
    {
      "cell_type": "markdown",
      "source": [
        "---"
      ],
      "metadata": {
        "id": "Ko4QaixAfPyF"
      }
    },
    {
      "cell_type": "markdown",
      "metadata": {
        "id": "q8Vn6fvLFJGH"
      },
      "source": [
        "# Machine Learning\n",
        "# Natural Language Processing (NLP)\n",
        "# Sentiment Analysis"
      ]
    },
    {
      "cell_type": "markdown",
      "source": [
        "---"
      ],
      "metadata": {
        "id": "JolABC6StbU4"
      }
    },
    {
      "cell_type": "markdown",
      "source": [
        "\n",
        "\n",
        "1. Text analysis\n",
        "2. Text mining\n",
        "\n",
        "Text analysis = the process of analyzing and extracting meaningful insights from unstructured text data"
      ],
      "metadata": {
        "id": "15QT1PIotNHH"
      }
    },
    {
      "cell_type": "markdown",
      "source": [
        "---"
      ],
      "metadata": {
        "id": "i3k1Fl20XNWK"
      }
    },
    {
      "cell_type": "markdown",
      "source": [
        "\n",
        "## **What is Sentiment Analysis?**\n",
        "\n",
        "sentiment analysis = determining the emotional tone of the text.\n",
        "\n",
        "subfields of text analysis is sentiment analysis"
      ],
      "metadata": {
        "id": "3L1ijih1tpdv"
      }
    },
    {
      "cell_type": "markdown",
      "source": [
        "\n",
        "## **What is the use of Sentiment Analysis?**\n",
        "\n",
        "customer feedback analysis"
      ],
      "metadata": {
        "id": "nv4f4ehAuvSS"
      }
    },
    {
      "cell_type": "markdown",
      "source": [
        "---"
      ],
      "metadata": {
        "id": "lZ-8TePAt4oW"
      }
    },
    {
      "cell_type": "code",
      "execution_count": null,
      "metadata": {
        "id": "3pRBaqLz9atZ"
      },
      "outputs": [],
      "source": [
        "import numpy as np\n",
        "import pandas as pd"
      ]
    },
    {
      "cell_type": "code",
      "execution_count": null,
      "metadata": {
        "id": "TFXpB4wv-5-1",
        "colab": {
          "base_uri": "https://localhost:8080/"
        },
        "outputId": "2bc9a598-0e9f-4417-e587-1f316e84c9e9"
      },
      "outputs": [
        {
          "output_type": "stream",
          "name": "stdout",
          "text": [
            "3.10.12 (main, Sep 11 2024, 15:47:36) [GCC 11.4.0]\n"
          ]
        }
      ],
      "source": [
        "import sys\n",
        "\n",
        "print(sys.version)"
      ]
    },
    {
      "cell_type": "code",
      "execution_count": null,
      "metadata": {
        "colab": {
          "base_uri": "https://localhost:8080/"
        },
        "id": "N0djESK29att",
        "outputId": "94293664-1f28-488b-a450-b6f217c0c9cc"
      },
      "outputs": [
        {
          "output_type": "stream",
          "name": "stdout",
          "text": [
            "Hello, World!\n"
          ]
        }
      ],
      "source": [
        "print(\"Hello, World!\")"
      ]
    },
    {
      "cell_type": "code",
      "execution_count": null,
      "metadata": {
        "id": "nfFMli_AEOK2"
      },
      "outputs": [],
      "source": []
    },
    {
      "cell_type": "markdown",
      "source": [
        "# Python code"
      ],
      "metadata": {
        "id": "MR391vUc7l-N"
      }
    },
    {
      "cell_type": "markdown",
      "source": [
        "1. Sentence Detection (Sentence Boundary Detection)"
      ],
      "metadata": {
        "id": "yKXoY6HoATUt"
      }
    },
    {
      "cell_type": "code",
      "execution_count": null,
      "metadata": {
        "id": "Il5GhWFYEOsa",
        "colab": {
          "base_uri": "https://localhost:8080/"
        },
        "outputId": "f57851c4-3cef-43d1-e1a8-3422c10a88d0"
      },
      "outputs": [
        {
          "output_type": "stream",
          "name": "stdout",
          "text": [
            "**************\n",
            "Apple's name was inspired by Steve Jobs' visit.\n",
            "His visit was to an apple farm while on a fruitarian diet.\n"
          ]
        },
        {
          "output_type": "stream",
          "name": "stderr",
          "text": [
            "[nltk_data] Downloading package punkt to /root/nltk_data...\n",
            "[nltk_data]   Package punkt is already up-to-date!\n"
          ]
        }
      ],
      "source": [
        "import nltk\n",
        "from nltk.tokenize import sent_tokenize, word_tokenize\n",
        "\n",
        "nltk.download('punkt')    # Use nltk downloader to download resource \"punkt\"\n",
        "output = (\"Apple's name was inspired by Steve Jobs' visit. His visit was to an apple farm while on a fruitarian diet.\")\n",
        "\n",
        "# Create a string object. By default, the function breaks sentences by periods.\n",
        "# Customize text or read files as needed\n",
        "\n",
        "# Tokenize output (sentence-level)\n",
        "sentences = sent_tokenize(output)\n",
        "\n",
        "print(\"**************\")\n",
        "for sentence in sentences:\n",
        "# Print each sentence in the output with one sentence a line\n",
        "    print(sentence)"
      ]
    },
    {
      "cell_type": "markdown",
      "source": [
        "2. Tokenization"
      ],
      "metadata": {
        "id": "rOz3EqKqBiaW"
      }
    },
    {
      "cell_type": "code",
      "execution_count": null,
      "metadata": {
        "id": "laFvPGe_EPHf",
        "colab": {
          "base_uri": "https://localhost:8080/"
        },
        "outputId": "f2169b0e-5e4f-4f7a-86be-e49e0430ab77"
      },
      "outputs": [
        {
          "output_type": "stream",
          "name": "stdout",
          "text": [
            "Apple\n",
            "'s\n",
            "name\n",
            "was\n",
            "inspired\n",
            "by\n",
            "Steve\n",
            "Jobs\n",
            "'\n",
            "visit\n",
            ".\n",
            "His\n",
            "visit\n",
            "was\n",
            "to\n",
            "an\n",
            "apple\n",
            "farm\n",
            "while\n",
            "on\n",
            "a\n",
            "fruitarian\n",
            "diet\n",
            ".\n"
          ]
        },
        {
          "output_type": "stream",
          "name": "stderr",
          "text": [
            "[nltk_data] Downloading package punkt to /root/nltk_data...\n",
            "[nltk_data]   Package punkt is already up-to-date!\n"
          ]
        }
      ],
      "source": [
        "import nltk\n",
        "from nltk.tokenize import sent_tokenize, word_tokenize\n",
        "nltk.download('punkt')    # Use nltk downloader to download resource \"punkt\"\n",
        "\n",
        "output = (\"Apple's name was inspired by Steve Jobs' visit. His visit was to an apple farm while on a fruitarian diet.\")\n",
        "# Create a string object. By default, the function breaks sentences by periods\n",
        "# Customize text or read files as needed\n",
        "\n",
        "# Tokenize output (word-level)\n",
        "words = word_tokenize(output)\n",
        "\n",
        "for word in words:\n",
        "# Print each sentence in the output with one sentence a line\n",
        "    print(word)"
      ]
    },
    {
      "cell_type": "markdown",
      "source": [
        "3. Stop Words Removal"
      ],
      "metadata": {
        "id": "sVoNAN1UCzUb"
      }
    },
    {
      "cell_type": "markdown",
      "source": [
        "You can identify and remove stop words by using NLTK's list of stop words after tokenizing the text."
      ],
      "metadata": {
        "id": "7NolmD_KDHkd"
      }
    },
    {
      "cell_type": "code",
      "execution_count": null,
      "metadata": {
        "id": "2d4r9-x8EPmJ",
        "colab": {
          "base_uri": "https://localhost:8080/"
        },
        "outputId": "ab553744-7f11-46c5-d399-071f0b7653a6"
      },
      "outputs": [
        {
          "output_type": "stream",
          "name": "stdout",
          "text": [
            "Apple\n",
            "'s\n",
            "name\n",
            "inspired\n",
            "Steve\n",
            "Jobs\n",
            "'\n",
            "visit\n",
            ".\n",
            "His\n",
            "visit\n",
            "apple\n",
            "farm\n",
            "fruitarian\n",
            "diet\n",
            ".\n"
          ]
        },
        {
          "output_type": "stream",
          "name": "stderr",
          "text": [
            "[nltk_data] Downloading package stopwords to /root/nltk_data...\n",
            "[nltk_data]   Package stopwords is already up-to-date!\n",
            "[nltk_data] Downloading package punkt to /root/nltk_data...\n",
            "[nltk_data]   Package punkt is already up-to-date!\n"
          ]
        }
      ],
      "source": [
        "nltk.download(\"stopwords\")\n",
        "from nltk.corpus import stopwords\n",
        "from nltk.tokenize import word_tokenize\n",
        "nltk.download('punkt')    # Use nltk downloader to download resource \"punkt\"\n",
        "\n",
        "output = (\"Apple's name was inspired by Steve Jobs' visit. His visit was to an apple farm while on a fruitarian diet.\")\n",
        "# Create a string object. By default, the function breaks sentences by periods.\n",
        "# Customize text or read files as needed\n",
        "\n",
        "# Get a list of stop words in English\n",
        "stop_words = set(stopwords.words(\"english\"))\n",
        "\n",
        "# Print non-stop words\n",
        "words = word_tokenize(output)\n",
        "for word in words:\n",
        "    if word not in stop_words:\n",
        "        print(word)"
      ]
    },
    {
      "cell_type": "markdown",
      "source": [
        "4. Stemming"
      ],
      "metadata": {
        "id": "OdT3Cx8gEOxr"
      }
    },
    {
      "cell_type": "markdown",
      "source": [
        "adventur.” Stemming allows us to reduce the complexity of the textual data"
      ],
      "metadata": {
        "id": "03vw9jLvER13"
      }
    },
    {
      "cell_type": "markdown",
      "source": [],
      "metadata": {
        "id": "s1NvrNElETE6"
      }
    },
    {
      "cell_type": "code",
      "source": [
        "from nltk.stem import PorterStemmer\n",
        "from nltk.tokenize import word_tokenize\n",
        "nltk.download('punkt')    # Use nltk downloader to download resource \"punkt\"\n",
        "\n",
        "output = (\"Please share with us the adventurous adventures of adventurer Tom\")\n",
        "# Create a string object. By default, the function breaks sentences by periods.\n",
        "# Customize text or read files as needed\n",
        "\n",
        "# Create a stemmer object using PorterStemmer()\n",
        "stemmer = PorterStemmer()\n",
        "\n",
        "# Tokenize the text\n",
        "words = word_tokenize(output)\n",
        "\n",
        "# Print stemmed words\n",
        "for word in words:\n",
        "    print(stemmer.stem(word))"
      ],
      "metadata": {
        "colab": {
          "base_uri": "https://localhost:8080/"
        },
        "id": "BVsE_zFRETc8",
        "outputId": "173734ce-1a0d-4d84-e896-c7ab0f52cbee"
      },
      "execution_count": null,
      "outputs": [
        {
          "output_type": "stream",
          "name": "stdout",
          "text": [
            "pleas\n",
            "share\n",
            "with\n",
            "us\n",
            "the\n",
            "adventur\n",
            "adventur\n",
            "of\n",
            "adventur\n",
            "tom\n"
          ]
        },
        {
          "output_type": "stream",
          "name": "stderr",
          "text": [
            "[nltk_data] Downloading package punkt to /root/nltk_data...\n",
            "[nltk_data]   Package punkt is already up-to-date!\n"
          ]
        }
      ]
    },
    {
      "cell_type": "markdown",
      "source": [
        "5. Word Frequency"
      ],
      "metadata": {
        "id": "S-CegE09Ev-R"
      }
    },
    {
      "cell_type": "markdown",
      "source": [
        "With NLTK's frequency distribution feature, you can check which words show up most frequently in your text."
      ],
      "metadata": {
        "id": "adCV0gf-E2yp"
      }
    },
    {
      "cell_type": "code",
      "execution_count": null,
      "metadata": {
        "id": "pM4D78FVEQFG",
        "colab": {
          "base_uri": "https://localhost:8080/",
          "height": 628
        },
        "outputId": "33e6ff5e-8b64-40ed-dffb-36a8289b165c"
      },
      "outputs": [
        {
          "output_type": "stream",
          "name": "stdout",
          "text": [
            "<FreqDist with 15 samples and 15 outcomes>\n",
            "*****\n",
            "[('The', 1), ('crew', 1), ('of', 1), ('the', 1), ('USS', 1), ('Discovery', 1), ('discovered', 1), ('many', 1), ('discoveries', 1), ('.', 1)]\n",
            "*****\n"
          ]
        },
        {
          "output_type": "display_data",
          "data": {
            "text/plain": [
              "<Figure size 640x480 with 1 Axes>"
            ],
            "image/png": "[encoded data removed]"
          },
          "metadata": {}
        },
        {
          "output_type": "execute_result",
          "data": {
            "text/plain": [
              "<Axes: xlabel='Samples', ylabel='Cumulative Counts'>"
            ]
          },
          "metadata": {},
          "execution_count": 167
        }
      ],
      "source": [
        "from nltk import FreqDist\n",
        "\n",
        "output = (\"The crew of the USS Discovery discovered many discoveries. Discovering is what explorers do\")\n",
        "# Create a string object. By default, the function breaks sentences by periods.\n",
        "# Customize text or read files as needed\n",
        "\n",
        "# Tokenize the text\n",
        "words = word_tokenize(output)\n",
        "\n",
        "# Find the frequency distribution in the given text\n",
        "frequency_distribution = FreqDist(words)\n",
        "print(frequency_distribution)\n",
        "\n",
        "print(\"*****\")\n",
        "# Print the most common 10 words\n",
        "print(frequency_distribution.most_common(10))\n",
        "\n",
        "print(\"*****\")\n",
        "\n",
        "# Visualize word frequencies\n",
        "frequency_distribution.plot(10, cumulative=True)"
      ]
    },
    {
      "cell_type": "markdown",
      "source": [
        "6. Part-Of-Speech (POS) Tagging"
      ],
      "metadata": {
        "id": "VIj8NwVrF34E"
      }
    },
    {
      "cell_type": "markdown",
      "source": [
        "it determines to which category each word (Noun, Pronoun, Adjective, Verb, Adverb, Preposition, Conjunction, and interjection) belongs"
      ],
      "metadata": {
        "id": "u5CxLu3iF-CF"
      }
    },
    {
      "cell_type": "code",
      "execution_count": null,
      "metadata": {
        "id": "AC_KZzEdEQhJ",
        "colab": {
          "base_uri": "https://localhost:8080/"
        },
        "outputId": "94d378d3-b2d4-4685-fe7f-b1fb2da28289"
      },
      "outputs": [
        {
          "output_type": "stream",
          "name": "stdout",
          "text": [
            "**********\n"
          ]
        },
        {
          "output_type": "stream",
          "name": "stderr",
          "text": [
            "[nltk_data] Downloading package averaged_perceptron_tagger to\n",
            "[nltk_data]     /root/nltk_data...\n",
            "[nltk_data]   Package averaged_perceptron_tagger is already up-to-\n",
            "[nltk_data]       date!\n"
          ]
        },
        {
          "output_type": "execute_result",
          "data": {
            "text/plain": [
              "[('Please', 'NNP'),\n",
              " ('share', 'NN'),\n",
              " ('with', 'IN'),\n",
              " ('us', 'PRP'),\n",
              " ('the', 'DT'),\n",
              " ('adventurous', 'JJ'),\n",
              " ('adventures', 'NNS'),\n",
              " ('of', 'IN'),\n",
              " ('adventurer', 'NN'),\n",
              " ('Tom', 'NNP')]"
            ]
          },
          "metadata": {},
          "execution_count": 168
        }
      ],
      "source": [
        "import nltk\n",
        "from nltk.stem import PorterStemmer\n",
        "from nltk.tokenize import word_tokenize\n",
        "\n",
        "nltk.download('averaged_perceptron_tagger')    # Use nltk downloader to download resource \"averaged_perceptron_tagger\"\n",
        "\n",
        "output = (\"Please share with us the adventurous adventures of adventurer Tom\")\n",
        "# Create a string object. By default, the function breaks sentences by periods.\n",
        "# Customize text or read files as needed\n",
        "\n",
        "# Tokenize the text\n",
        "words = word_tokenize(output)\n",
        "\n",
        "print(\"**********\")\n",
        "# Print word and tag pairs\n",
        "nltk.pos_tag(words)"
      ]
    },
    {
      "cell_type": "markdown",
      "source": [
        "7. Lemmatization"
      ],
      "metadata": {
        "id": "9KNjZrolG_9b"
      }
    },
    {
      "cell_type": "markdown",
      "source": [
        "For example, “visits”, “visiting”, and “visited” are all forms of “visit” (lemma)."
      ],
      "metadata": {
        "id": "xdk9iYfhHWGU"
      }
    },
    {
      "cell_type": "code",
      "source": [
        "import nltk\n",
        "from nltk.stem import WordNetLemmatizer\n",
        "nltk.download('wordnet')    # Use nltk downloader to download resource \"wordnet\"\n",
        "nltk.download('omw-1.4')    # Use nltk downloader to download resource \"omw-1.4\"\n",
        "\n",
        "output = (\"Apple's name was inspired by Steve Jobs' visits. His visits was to an apple farm while on a fruitarian diet.\")\n",
        "# Create a string object. By default, the function breaks sentences by periods.\n",
        "# Customize text or read files as needed\n",
        "\n",
        "# Create lemmatizer\n",
        "lemmatizer = WordNetLemmatizer()\n",
        "\n",
        "# Tokenize the text\n",
        "words = word_tokenize(output)\n",
        "\n",
        "# Print lemmatized words\n",
        "for word in words:\n",
        "    print(lemmatizer.lemmatize(word))"
      ],
      "metadata": {
        "colab": {
          "base_uri": "https://localhost:8080/"
        },
        "id": "JlQ5MLQvHZgA",
        "outputId": "946a0250-092a-4b32-c511-2f074474b080"
      },
      "execution_count": null,
      "outputs": [
        {
          "output_type": "stream",
          "name": "stdout",
          "text": [
            "Apple\n",
            "'s\n",
            "name\n",
            "wa\n",
            "inspired\n",
            "by\n",
            "Steve\n",
            "Jobs\n",
            "'\n",
            "visit\n",
            ".\n",
            "His\n",
            "visit\n",
            "wa\n",
            "to\n",
            "an\n",
            "apple\n",
            "farm\n",
            "while\n",
            "on\n",
            "a\n",
            "fruitarian\n",
            "diet\n",
            ".\n"
          ]
        },
        {
          "output_type": "stream",
          "name": "stderr",
          "text": [
            "[nltk_data] Downloading package wordnet to /root/nltk_data...\n",
            "[nltk_data]   Package wordnet is already up-to-date!\n",
            "[nltk_data] Downloading package omw-1.4 to /root/nltk_data...\n",
            "[nltk_data]   Package omw-1.4 is already up-to-date!\n"
          ]
        }
      ]
    },
    {
      "cell_type": "markdown",
      "source": [
        "8. Chunking"
      ],
      "metadata": {
        "id": "JkagBqWJHwMZ"
      }
    },
    {
      "cell_type": "markdown",
      "source": [
        "chunking allows you to identify phrases in a textual input."
      ],
      "metadata": {
        "id": "-xnXZDObH1xo"
      }
    },
    {
      "cell_type": "code",
      "source": [
        "try:\n",
        "  import svgling\n",
        "except:\n",
        "  !pip install svgling\n",
        "  import svgling"
      ],
      "metadata": {
        "id": "PwkZvmF7JA7n"
      },
      "execution_count": null,
      "outputs": []
    },
    {
      "cell_type": "code",
      "source": [
        "import nltk\n",
        "from nltk.tokenize import word_tokenize\n",
        "from nltk.tree import Tree\n",
        "from IPython.display import display\n",
        "import svgling\n",
        "nltk.download(\"averaged_perceptron_tagger\")    # Use nltk downloader to download resource \"averaged_perceptron_tagger\"\n",
        "\n",
        "output = (\"Apple's name was inspired by Steve Jobs' visits. His visits was to an apple farm while on a fruitarian diet.\")\n",
        "# Create a string object. By default, the function breaks sentences by periods.\n",
        "# Customize text or read files as needed\n",
        "\n",
        "# Tokenize the text\n",
        "words = word_tokenize(output)\n",
        "\n",
        "# POS tag the text\n",
        "tag = nltk.pos_tag(words)"
      ],
      "metadata": {
        "colab": {
          "base_uri": "https://localhost:8080/"
        },
        "id": "GIlveGfaH76M",
        "outputId": "9abd6081-9c37-4521-d5ea-13ab1f55629f"
      },
      "execution_count": null,
      "outputs": [
        {
          "output_type": "stream",
          "name": "stderr",
          "text": [
            "[nltk_data] Downloading package averaged_perceptron_tagger to\n",
            "[nltk_data]     /root/nltk_data...\n",
            "[nltk_data]   Package averaged_perceptron_tagger is already up-to-\n",
            "[nltk_data]       date!\n"
          ]
        }
      ]
    },
    {
      "cell_type": "markdown",
      "source": [],
      "metadata": {
        "id": "0aeVxUwWIiYf"
      }
    },
    {
      "cell_type": "code",
      "source": [
        "# Define grammar\n",
        "grammar = \"NP: {<DT>?<JJ>*<NN>}\""
      ],
      "metadata": {
        "id": "mu3PBQ_sIjNo"
      },
      "execution_count": null,
      "outputs": []
    },
    {
      "cell_type": "code",
      "source": [
        "# Create chunk parser object\n",
        "chunk_parser = nltk.RegexpParser(grammar)\n",
        "\n",
        "\n",
        "# Create a tree diagram for the chunking\n",
        "tree = chunk_parser.parse(tag)\n",
        "display(tree)"
      ],
      "metadata": {
        "colab": {
          "base_uri": "https://localhost:8080/",
          "height": 189
        },
        "id": "Bbym361SIt0R",
        "outputId": "a4c5fd3b-efda-4ae7-e3f3-860d56550930"
      },
      "execution_count": null,
      "outputs": [
        {
          "output_type": "display_data",
          "data": {
            "text/plain": [
              "Tree('S', [('Apple', 'NNP'), (\"'s\", 'POS'), Tree('NP', [('name', 'NN')]), ('was', 'VBD'), ('inspired', 'VBN'), ('by', 'IN'), ('Steve', 'NNP'), ('Jobs', 'NNP'), (\"'\", 'POS'), ('visits', 'NNS'), ('.', '.'), ('His', 'PRP$'), ('visits', 'NNS'), ('was', 'VBD'), ('to', 'TO'), Tree('NP', [('an', 'DT'), ('apple', 'NN')]), Tree('NP', [('farm', 'NN')]), ('while', 'IN'), ('on', 'IN'), Tree('NP', [('a', 'DT'), ('fruitarian', 'JJ'), ('diet', 'NN')]), ('.', '.')])"
            ],
            "image/svg+xml": "<svg baseProfile=\"full\" height=\"168px\" preserveAspectRatio=\"xMidYMid meet\" style=\"font-family: times, serif; font-weight: normal; font-style: normal; font-size: 16px\" version=\"1.1\" viewBox=\"0,0,1136.0,168.0\" width=\"1136px\" xmlns=\"http://www.w3.org/2000/svg\" xmlns:ev=\"http://www.w3.org/2001/xml-events\" xmlns:xlink=\"http://www.w3.org/1999/xlink\"><defs /><svg width=\"100%\" x=\"0\" y=\"0px\"><defs /><text text-anchor=\"middle\" x=\"50%\" y=\"16px\">S</text></svg><svg width=\"4.92958%\" x=\"0%\" y=\"48px\"><defs /><svg width=\"100%\" x=\"0\" y=\"0px\"><defs /><text text-anchor=\"middle\" x=\"50%\" y=\"16px\">Apple</text></svg><svg width=\"100%\" x=\"0%\" y=\"48px\"><defs /><svg width=\"100%\" x=\"0\" y=\"0px\"><defs /><text text-anchor=\"middle\" x=\"50%\" y=\"16px\">NNP</text></svg></svg><line stroke=\"black\" x1=\"50%\" x2=\"50%\" y1=\"20px\" y2=\"48px\" /></svg><line stroke=\"black\" x1=\"50%\" x2=\"2.46479%\" y1=\"20px\" y2=\"48px\" /><svg width=\"3.52113%\" x=\"4.92958%\" y=\"48px\"><defs /><svg width=\"100%\" x=\"0\" y=\"0px\"><defs /><text text-anchor=\"middle\" x=\"50%\" y=\"16px\">'s</text></svg><svg width=\"100%\" x=\"0%\" y=\"48px\"><defs /><svg width=\"100%\" x=\"0\" y=\"0px\"><defs /><text text-anchor=\"middle\" x=\"50%\" y=\"16px\">POS</text></svg></svg><line stroke=\"black\" x1=\"50%\" x2=\"50%\" y1=\"20px\" y2=\"48px\" /></svg><line stroke=\"black\" x1=\"50%\" x2=\"6.69014%\" y1=\"20px\" y2=\"48px\" /><svg width=\"4.22535%\" x=\"8.4507%\" y=\"48px\"><defs /><svg width=\"100%\" x=\"0\" y=\"0px\"><defs /><text text-anchor=\"middle\" x=\"50%\" y=\"16px\">NP</text></svg><svg width=\"100%\" x=\"0%\" y=\"48px\"><defs /><svg width=\"100%\" x=\"0\" y=\"0px\"><defs /><text text-anchor=\"middle\" x=\"50%\" y=\"16px\">name</text></svg><svg width=\"100%\" x=\"0%\" y=\"48px\"><defs /><svg width=\"100%\" x=\"0\" y=\"0px\"><defs /><text text-anchor=\"middle\" x=\"50%\" y=\"16px\">NN</text></svg></svg><line stroke=\"black\" x1=\"50%\" x2=\"50%\" y1=\"20px\" y2=\"48px\" /></svg><line stroke=\"black\" x1=\"50%\" x2=\"50%\" y1=\"20px\" y2=\"48px\" /></svg><line stroke=\"black\" x1=\"50%\" x2=\"10.5634%\" y1=\"20px\" y2=\"48px\" /><svg width=\"3.52113%\" x=\"12.6761%\" y=\"48px\"><defs /><svg width=\"100%\" x=\"0\" y=\"0px\"><defs /><text text-anchor=\"middle\" x=\"50%\" y=\"16px\">was</text></svg><svg width=\"100%\" x=\"0%\" y=\"48px\"><defs /><svg width=\"100%\" x=\"0\" y=\"0px\"><defs /><text text-anchor=\"middle\" x=\"50%\" y=\"16px\">VBD</text></svg></svg><line stroke=\"black\" x1=\"50%\" x2=\"50%\" y1=\"20px\" y2=\"48px\" /></svg><line stroke=\"black\" x1=\"50%\" x2=\"14.4366%\" y1=\"20px\" y2=\"48px\" /><svg width=\"7.04225%\" x=\"16.1972%\" y=\"48px\"><defs /><svg width=\"100%\" x=\"0\" y=\"0px\"><defs /><text text-anchor=\"middle\" x=\"50%\" y=\"16px\">inspired</text></svg><svg width=\"100%\" x=\"0%\" y=\"48px\"><defs /><svg width=\"100%\" x=\"0\" y=\"0px\"><defs /><text text-anchor=\"middle\" x=\"50%\" y=\"16px\">VBN</text></svg></svg><line stroke=\"black\" x1=\"50%\" x2=\"50%\" y1=\"20px\" y2=\"48px\" /></svg><line stroke=\"black\" x1=\"50%\" x2=\"19.7183%\" y1=\"20px\" y2=\"48px\" /><svg width=\"2.8169%\" x=\"23.2394%\" y=\"48px\"><defs /><svg width=\"100%\" x=\"0\" y=\"0px\"><defs /><text text-anchor=\"middle\" x=\"50%\" y=\"16px\">by</text></svg><svg width=\"100%\" x=\"0%\" y=\"48px\"><defs /><svg width=\"100%\" x=\"0\" y=\"0px\"><defs /><text text-anchor=\"middle\" x=\"50%\" y=\"16px\">IN</text></svg></svg><line stroke=\"black\" x1=\"50%\" x2=\"50%\" y1=\"20px\" y2=\"48px\" /></svg><line stroke=\"black\" x1=\"50%\" x2=\"24.6479%\" y1=\"20px\" y2=\"48px\" /><svg width=\"4.92958%\" x=\"26.0563%\" y=\"48px\"><defs /><svg width=\"100%\" x=\"0\" y=\"0px\"><defs /><text text-anchor=\"middle\" x=\"50%\" y=\"16px\">Steve</text></svg><svg width=\"100%\" x=\"0%\" y=\"48px\"><defs /><svg width=\"100%\" x=\"0\" y=\"0px\"><defs /><text text-anchor=\"middle\" x=\"50%\" y=\"16px\">NNP</text></svg></svg><line stroke=\"black\" x1=\"50%\" x2=\"50%\" y1=\"20px\" y2=\"48px\" /></svg><line stroke=\"black\" x1=\"50%\" x2=\"28.5211%\" y1=\"20px\" y2=\"48px\" /><svg width=\"4.22535%\" x=\"30.9859%\" y=\"48px\"><defs /><svg width=\"100%\" x=\"0\" y=\"0px\"><defs /><text text-anchor=\"middle\" x=\"50%\" y=\"16px\">Jobs</text></svg><svg width=\"100%\" x=\"0%\" y=\"48px\"><defs /><svg width=\"100%\" x=\"0\" y=\"0px\"><defs /><text text-anchor=\"middle\" x=\"50%\" y=\"16px\">NNP</text></svg></svg><line stroke=\"black\" x1=\"50%\" x2=\"50%\" y1=\"20px\" y2=\"48px\" /></svg><line stroke=\"black\" x1=\"50%\" x2=\"33.0986%\" y1=\"20px\" y2=\"48px\" /><svg width=\"3.52113%\" x=\"35.2113%\" y=\"48px\"><defs /><svg width=\"100%\" x=\"0\" y=\"0px\"><defs /><text text-anchor=\"middle\" x=\"50%\" y=\"16px\">'</text></svg><svg width=\"100%\" x=\"0%\" y=\"48px\"><defs /><svg width=\"100%\" x=\"0\" y=\"0px\"><defs /><text text-anchor=\"middle\" x=\"50%\" y=\"16px\">POS</text></svg></svg><line stroke=\"black\" x1=\"50%\" x2=\"50%\" y1=\"20px\" y2=\"48px\" /></svg><line stroke=\"black\" x1=\"50%\" x2=\"36.9718%\" y1=\"20px\" y2=\"48px\" /><svg width=\"5.6338%\" x=\"38.7324%\" y=\"48px\"><defs /><svg width=\"100%\" x=\"0\" y=\"0px\"><defs /><text text-anchor=\"middle\" x=\"50%\" y=\"16px\">visits</text></svg><svg width=\"100%\" x=\"0%\" y=\"48px\"><defs /><svg width=\"100%\" x=\"0\" y=\"0px\"><defs /><text text-anchor=\"middle\" x=\"50%\" y=\"16px\">NNS</text></svg></svg><line stroke=\"black\" x1=\"50%\" x2=\"50%\" y1=\"20px\" y2=\"48px\" /></svg><line stroke=\"black\" x1=\"50%\" x2=\"41.5493%\" y1=\"20px\" y2=\"48px\" /><svg width=\"2.11268%\" x=\"44.3662%\" y=\"48px\"><defs /><svg width=\"100%\" x=\"0\" y=\"0px\"><defs /><text text-anchor=\"middle\" x=\"50%\" y=\"16px\">.</text></svg><svg width=\"100%\" x=\"0%\" y=\"48px\"><defs /><svg width=\"100%\" x=\"0\" y=\"0px\"><defs /><text text-anchor=\"middle\" x=\"50%\" y=\"16px\">.</text></svg></svg><line stroke=\"black\" x1=\"50%\" x2=\"50%\" y1=\"20px\" y2=\"48px\" /></svg><line stroke=\"black\" x1=\"50%\" x2=\"45.4225%\" y1=\"20px\" y2=\"48px\" /><svg width=\"4.22535%\" x=\"46.4789%\" y=\"48px\"><defs /><svg width=\"100%\" x=\"0\" y=\"0px\"><defs /><text text-anchor=\"middle\" x=\"50%\" y=\"16px\">His</text></svg><svg width=\"100%\" x=\"0%\" y=\"48px\"><defs /><svg width=\"100%\" x=\"0\" y=\"0px\"><defs /><text text-anchor=\"middle\" x=\"50%\" y=\"16px\">PRP$</text></svg></svg><line stroke=\"black\" x1=\"50%\" x2=\"50%\" y1=\"20px\" y2=\"48px\" /></svg><line stroke=\"black\" x1=\"50%\" x2=\"48.5915%\" y1=\"20px\" y2=\"48px\" /><svg width=\"5.6338%\" x=\"50.7042%\" y=\"48px\"><defs /><svg width=\"100%\" x=\"0\" y=\"0px\"><defs /><text text-anchor=\"middle\" x=\"50%\" y=\"16px\">visits</text></svg><svg width=\"100%\" x=\"0%\" y=\"48px\"><defs /><svg width=\"100%\" x=\"0\" y=\"0px\"><defs /><text text-anchor=\"middle\" x=\"50%\" y=\"16px\">NNS</text></svg></svg><line stroke=\"black\" x1=\"50%\" x2=\"50%\" y1=\"20px\" y2=\"48px\" /></svg><line stroke=\"black\" x1=\"50%\" x2=\"53.5211%\" y1=\"20px\" y2=\"48px\" /><svg width=\"3.52113%\" x=\"56.338%\" y=\"48px\"><defs /><svg width=\"100%\" x=\"0\" y=\"0px\"><defs /><text text-anchor=\"middle\" x=\"50%\" y=\"16px\">was</text></svg><svg width=\"100%\" x=\"0%\" y=\"48px\"><defs /><svg width=\"100%\" x=\"0\" y=\"0px\"><defs /><text text-anchor=\"middle\" x=\"50%\" y=\"16px\">VBD</text></svg></svg><line stroke=\"black\" x1=\"50%\" x2=\"50%\" y1=\"20px\" y2=\"48px\" /></svg><line stroke=\"black\" x1=\"50%\" x2=\"58.0986%\" y1=\"20px\" y2=\"48px\" /><svg width=\"2.8169%\" x=\"59.8592%\" y=\"48px\"><defs /><svg width=\"100%\" x=\"0\" y=\"0px\"><defs /><text text-anchor=\"middle\" x=\"50%\" y=\"16px\">to</text></svg><svg width=\"100%\" x=\"0%\" y=\"48px\"><defs /><svg width=\"100%\" x=\"0\" y=\"0px\"><defs /><text text-anchor=\"middle\" x=\"50%\" y=\"16px\">TO</text></svg></svg><line stroke=\"black\" x1=\"50%\" x2=\"50%\" y1=\"20px\" y2=\"48px\" /></svg><line stroke=\"black\" x1=\"50%\" x2=\"61.2676%\" y1=\"20px\" y2=\"48px\" /><svg width=\"7.74648%\" x=\"62.6761%\" y=\"48px\"><defs /><svg width=\"100%\" x=\"0\" y=\"0px\"><defs /><text text-anchor=\"middle\" x=\"50%\" y=\"16px\">NP</text></svg><svg width=\"36.3636%\" x=\"0%\" y=\"48px\"><defs /><svg width=\"100%\" x=\"0\" y=\"0px\"><defs /><text text-anchor=\"middle\" x=\"50%\" y=\"16px\">an</text></svg><svg width=\"100%\" x=\"0%\" y=\"48px\"><defs /><svg width=\"100%\" x=\"0\" y=\"0px\"><defs /><text text-anchor=\"middle\" x=\"50%\" y=\"16px\">DT</text></svg></svg><line stroke=\"black\" x1=\"50%\" x2=\"50%\" y1=\"20px\" y2=\"48px\" /></svg><line stroke=\"black\" x1=\"50%\" x2=\"18.1818%\" y1=\"20px\" y2=\"48px\" /><svg width=\"63.6364%\" x=\"36.3636%\" y=\"48px\"><defs /><svg width=\"100%\" x=\"0\" y=\"0px\"><defs /><text text-anchor=\"middle\" x=\"50%\" y=\"16px\">apple</text></svg><svg width=\"100%\" x=\"0%\" y=\"48px\"><defs /><svg width=\"100%\" x=\"0\" y=\"0px\"><defs /><text text-anchor=\"middle\" x=\"50%\" y=\"16px\">NN</text></svg></svg><line stroke=\"black\" x1=\"50%\" x2=\"50%\" y1=\"20px\" y2=\"48px\" /></svg><line stroke=\"black\" x1=\"50%\" x2=\"68.1818%\" y1=\"20px\" y2=\"48px\" /></svg><line stroke=\"black\" x1=\"50%\" x2=\"66.5493%\" y1=\"20px\" y2=\"48px\" /><svg width=\"4.22535%\" x=\"70.4225%\" y=\"48px\"><defs /><svg width=\"100%\" x=\"0\" y=\"0px\"><defs /><text text-anchor=\"middle\" x=\"50%\" y=\"16px\">NP</text></svg><svg width=\"100%\" x=\"0%\" y=\"48px\"><defs /><svg width=\"100%\" x=\"0\" y=\"0px\"><defs /><text text-anchor=\"middle\" x=\"50%\" y=\"16px\">farm</text></svg><svg width=\"100%\" x=\"0%\" y=\"48px\"><defs /><svg width=\"100%\" x=\"0\" y=\"0px\"><defs /><text text-anchor=\"middle\" x=\"50%\" y=\"16px\">NN</text></svg></svg><line stroke=\"black\" x1=\"50%\" x2=\"50%\" y1=\"20px\" y2=\"48px\" /></svg><line stroke=\"black\" x1=\"50%\" x2=\"50%\" y1=\"20px\" y2=\"48px\" /></svg><line stroke=\"black\" x1=\"50%\" x2=\"72.5352%\" y1=\"20px\" y2=\"48px\" /><svg width=\"4.92958%\" x=\"74.6479%\" y=\"48px\"><defs /><svg width=\"100%\" x=\"0\" y=\"0px\"><defs /><text text-anchor=\"middle\" x=\"50%\" y=\"16px\">while</text></svg><svg width=\"100%\" x=\"0%\" y=\"48px\"><defs /><svg width=\"100%\" x=\"0\" y=\"0px\"><defs /><text text-anchor=\"middle\" x=\"50%\" y=\"16px\">IN</text></svg></svg><line stroke=\"black\" x1=\"50%\" x2=\"50%\" y1=\"20px\" y2=\"48px\" /></svg><line stroke=\"black\" x1=\"50%\" x2=\"77.1127%\" y1=\"20px\" y2=\"48px\" /><svg width=\"2.8169%\" x=\"79.5775%\" y=\"48px\"><defs /><svg width=\"100%\" x=\"0\" y=\"0px\"><defs /><text text-anchor=\"middle\" x=\"50%\" y=\"16px\">on</text></svg><svg width=\"100%\" x=\"0%\" y=\"48px\"><defs /><svg width=\"100%\" x=\"0\" y=\"0px\"><defs /><text text-anchor=\"middle\" x=\"50%\" y=\"16px\">IN</text></svg></svg><line stroke=\"black\" x1=\"50%\" x2=\"50%\" y1=\"20px\" y2=\"48px\" /></svg><line stroke=\"black\" x1=\"50%\" x2=\"80.9859%\" y1=\"20px\" y2=\"48px\" /><svg width=\"15.493%\" x=\"82.3944%\" y=\"48px\"><defs /><svg width=\"100%\" x=\"0\" y=\"0px\"><defs /><text text-anchor=\"middle\" x=\"50%\" y=\"16px\">NP</text></svg><svg width=\"18.1818%\" x=\"0%\" y=\"48px\"><defs /><svg width=\"100%\" x=\"0\" y=\"0px\"><defs /><text text-anchor=\"middle\" x=\"50%\" y=\"16px\">a</text></svg><svg width=\"100%\" x=\"0%\" y=\"48px\"><defs /><svg width=\"100%\" x=\"0\" y=\"0px\"><defs /><text text-anchor=\"middle\" x=\"50%\" y=\"16px\">DT</text></svg></svg><line stroke=\"black\" x1=\"50%\" x2=\"50%\" y1=\"20px\" y2=\"48px\" /></svg><line stroke=\"black\" x1=\"50%\" x2=\"9.09091%\" y1=\"20px\" y2=\"48px\" /><svg width=\"54.5455%\" x=\"18.1818%\" y=\"48px\"><defs /><svg width=\"100%\" x=\"0\" y=\"0px\"><defs /><text text-anchor=\"middle\" x=\"50%\" y=\"16px\">fruitarian</text></svg><svg width=\"100%\" x=\"0%\" y=\"48px\"><defs /><svg width=\"100%\" x=\"0\" y=\"0px\"><defs /><text text-anchor=\"middle\" x=\"50%\" y=\"16px\">JJ</text></svg></svg><line stroke=\"black\" x1=\"50%\" x2=\"50%\" y1=\"20px\" y2=\"48px\" /></svg><line stroke=\"black\" x1=\"50%\" x2=\"45.4545%\" y1=\"20px\" y2=\"48px\" /><svg width=\"27.2727%\" x=\"72.7273%\" y=\"48px\"><defs /><svg width=\"100%\" x=\"0\" y=\"0px\"><defs /><text text-anchor=\"middle\" x=\"50%\" y=\"16px\">diet</text></svg><svg width=\"100%\" x=\"0%\" y=\"48px\"><defs /><svg width=\"100%\" x=\"0\" y=\"0px\"><defs /><text text-anchor=\"middle\" x=\"50%\" y=\"16px\">NN</text></svg></svg><line stroke=\"black\" x1=\"50%\" x2=\"50%\" y1=\"20px\" y2=\"48px\" /></svg><line stroke=\"black\" x1=\"50%\" x2=\"86.3636%\" y1=\"20px\" y2=\"48px\" /></svg><line stroke=\"black\" x1=\"50%\" x2=\"90.1408%\" y1=\"20px\" y2=\"48px\" /><svg width=\"2.11268%\" x=\"97.8873%\" y=\"48px\"><defs /><svg width=\"100%\" x=\"0\" y=\"0px\"><defs /><text text-anchor=\"middle\" x=\"50%\" y=\"16px\">.</text></svg><svg width=\"100%\" x=\"0%\" y=\"48px\"><defs /><svg width=\"100%\" x=\"0\" y=\"0px\"><defs /><text text-anchor=\"middle\" x=\"50%\" y=\"16px\">.</text></svg></svg><line stroke=\"black\" x1=\"50%\" x2=\"50%\" y1=\"20px\" y2=\"48px\" /></svg><line stroke=\"black\" x1=\"50%\" x2=\"98.9437%\" y1=\"20px\" y2=\"48px\" /></svg>"
          },
          "metadata": {}
        }
      ]
    },
    {
      "cell_type": "markdown",
      "source": [
        "9. Chinking"
      ],
      "metadata": {
        "id": "FOaytEXHJnmC"
      }
    },
    {
      "cell_type": "markdown",
      "source": [
        "While chunking is used to identify and find a pattern, chinking is used to exclude a pattern."
      ],
      "metadata": {
        "id": "N1bvw_aGJq1W"
      }
    },
    {
      "cell_type": "code",
      "source": [
        "import nltk\n",
        "from nltk.tokenize import word_tokenize\n",
        "from nltk.tree import Tree\n",
        "from IPython.display import display\n",
        "import svgling\n",
        "nltk.download(\"averaged_perceptron_tagger\")    # Use nltk downloader to download resource \"averaged_perceptron_tagger\"\n",
        "\n",
        "output = (\"Apple's name was inspired by Steve Jobs' visits. His visits was to an apple farm while on a fruitarian diet.\")\n",
        "# Create a string object. By default, the function breaks sentences by periods.\n",
        "# Customize text or read files as needed\n",
        "\n",
        "# Tokenize the text\n",
        "words = word_tokenize(output)\n",
        "\n",
        "# POS tag the text\n",
        "tag = nltk.pos_tag(words)"
      ],
      "metadata": {
        "colab": {
          "base_uri": "https://localhost:8080/"
        },
        "id": "2vzzHytbKJiY",
        "outputId": "ac543ca9-61c9-4d03-a545-ecd06a7cc873"
      },
      "execution_count": null,
      "outputs": [
        {
          "output_type": "stream",
          "name": "stderr",
          "text": [
            "[nltk_data] Downloading package averaged_perceptron_tagger to\n",
            "[nltk_data]     /root/nltk_data...\n",
            "[nltk_data]   Package averaged_perceptron_tagger is already up-to-\n",
            "[nltk_data]       date!\n"
          ]
        }
      ]
    },
    {
      "cell_type": "code",
      "source": [
        "# Define grammar\n",
        "grammar = \"\"\"Chunk: }<JJ>{\"\"\"\n",
        "\n",
        "# Create a chunk parser object\n",
        "chunk_parser = nltk.RegexpParser(grammar)\n",
        "\n",
        "# Create a tree diagram for the chunking\n",
        "tree = chunk_parser.parse(tag)\n",
        "display(tree)"
      ],
      "metadata": {
        "colab": {
          "base_uri": "https://localhost:8080/",
          "height": 141
        },
        "id": "bsc8p2TCKV_w",
        "outputId": "00ed1e5f-06d8-47ae-94fb-3de3400fddf2"
      },
      "execution_count": null,
      "outputs": [
        {
          "output_type": "display_data",
          "data": {
            "text/plain": [
              "Tree('S', [('Apple', 'NNP'), (\"'s\", 'POS'), ('name', 'NN'), ('was', 'VBD'), ('inspired', 'VBN'), ('by', 'IN'), ('Steve', 'NNP'), ('Jobs', 'NNP'), (\"'\", 'POS'), ('visits', 'NNS'), ('.', '.'), ('His', 'PRP$'), ('visits', 'NNS'), ('was', 'VBD'), ('to', 'TO'), ('an', 'DT'), ('apple', 'NN'), ('farm', 'NN'), ('while', 'IN'), ('on', 'IN'), ('a', 'DT'), ('fruitarian', 'JJ'), ('diet', 'NN'), ('.', '.')])"
            ],
            "image/svg+xml": "<svg baseProfile=\"full\" height=\"120px\" preserveAspectRatio=\"xMidYMid meet\" style=\"font-family: times, serif; font-weight: normal; font-style: normal; font-size: 16px\" version=\"1.1\" viewBox=\"0,0,1136.0,120.0\" width=\"1136px\" xmlns=\"http://www.w3.org/2000/svg\" xmlns:ev=\"http://www.w3.org/2001/xml-events\" xmlns:xlink=\"http://www.w3.org/1999/xlink\"><defs /><svg width=\"100%\" x=\"0\" y=\"0px\"><defs /><text text-anchor=\"middle\" x=\"50%\" y=\"16px\">S</text></svg><svg width=\"4.92958%\" x=\"0%\" y=\"48px\"><defs /><svg width=\"100%\" x=\"0\" y=\"0px\"><defs /><text text-anchor=\"middle\" x=\"50%\" y=\"16px\">Apple</text></svg><svg width=\"100%\" x=\"0%\" y=\"48px\"><defs /><svg width=\"100%\" x=\"0\" y=\"0px\"><defs /><text text-anchor=\"middle\" x=\"50%\" y=\"16px\">NNP</text></svg></svg><line stroke=\"black\" x1=\"50%\" x2=\"50%\" y1=\"20px\" y2=\"48px\" /></svg><line stroke=\"black\" x1=\"50%\" x2=\"2.46479%\" y1=\"20px\" y2=\"48px\" /><svg width=\"3.52113%\" x=\"4.92958%\" y=\"48px\"><defs /><svg width=\"100%\" x=\"0\" y=\"0px\"><defs /><text text-anchor=\"middle\" x=\"50%\" y=\"16px\">'s</text></svg><svg width=\"100%\" x=\"0%\" y=\"48px\"><defs /><svg width=\"100%\" x=\"0\" y=\"0px\"><defs /><text text-anchor=\"middle\" x=\"50%\" y=\"16px\">POS</text></svg></svg><line stroke=\"black\" x1=\"50%\" x2=\"50%\" y1=\"20px\" y2=\"48px\" /></svg><line stroke=\"black\" x1=\"50%\" x2=\"6.69014%\" y1=\"20px\" y2=\"48px\" /><svg width=\"4.22535%\" x=\"8.4507%\" y=\"48px\"><defs /><svg width=\"100%\" x=\"0\" y=\"0px\"><defs /><text text-anchor=\"middle\" x=\"50%\" y=\"16px\">name</text></svg><svg width=\"100%\" x=\"0%\" y=\"48px\"><defs /><svg width=\"100%\" x=\"0\" y=\"0px\"><defs /><text text-anchor=\"middle\" x=\"50%\" y=\"16px\">NN</text></svg></svg><line stroke=\"black\" x1=\"50%\" x2=\"50%\" y1=\"20px\" y2=\"48px\" /></svg><line stroke=\"black\" x1=\"50%\" x2=\"10.5634%\" y1=\"20px\" y2=\"48px\" /><svg width=\"3.52113%\" x=\"12.6761%\" y=\"48px\"><defs /><svg width=\"100%\" x=\"0\" y=\"0px\"><defs /><text text-anchor=\"middle\" x=\"50%\" y=\"16px\">was</text></svg><svg width=\"100%\" x=\"0%\" y=\"48px\"><defs /><svg width=\"100%\" x=\"0\" y=\"0px\"><defs /><text text-anchor=\"middle\" x=\"50%\" y=\"16px\">VBD</text></svg></svg><line stroke=\"black\" x1=\"50%\" x2=\"50%\" y1=\"20px\" y2=\"48px\" /></svg><line stroke=\"black\" x1=\"50%\" x2=\"14.4366%\" y1=\"20px\" y2=\"48px\" /><svg width=\"7.04225%\" x=\"16.1972%\" y=\"48px\"><defs /><svg width=\"100%\" x=\"0\" y=\"0px\"><defs /><text text-anchor=\"middle\" x=\"50%\" y=\"16px\">inspired</text></svg><svg width=\"100%\" x=\"0%\" y=\"48px\"><defs /><svg width=\"100%\" x=\"0\" y=\"0px\"><defs /><text text-anchor=\"middle\" x=\"50%\" y=\"16px\">VBN</text></svg></svg><line stroke=\"black\" x1=\"50%\" x2=\"50%\" y1=\"20px\" y2=\"48px\" /></svg><line stroke=\"black\" x1=\"50%\" x2=\"19.7183%\" y1=\"20px\" y2=\"48px\" /><svg width=\"2.8169%\" x=\"23.2394%\" y=\"48px\"><defs /><svg width=\"100%\" x=\"0\" y=\"0px\"><defs /><text text-anchor=\"middle\" x=\"50%\" y=\"16px\">by</text></svg><svg width=\"100%\" x=\"0%\" y=\"48px\"><defs /><svg width=\"100%\" x=\"0\" y=\"0px\"><defs /><text text-anchor=\"middle\" x=\"50%\" y=\"16px\">IN</text></svg></svg><line stroke=\"black\" x1=\"50%\" x2=\"50%\" y1=\"20px\" y2=\"48px\" /></svg><line stroke=\"black\" x1=\"50%\" x2=\"24.6479%\" y1=\"20px\" y2=\"48px\" /><svg width=\"4.92958%\" x=\"26.0563%\" y=\"48px\"><defs /><svg width=\"100%\" x=\"0\" y=\"0px\"><defs /><text text-anchor=\"middle\" x=\"50%\" y=\"16px\">Steve</text></svg><svg width=\"100%\" x=\"0%\" y=\"48px\"><defs /><svg width=\"100%\" x=\"0\" y=\"0px\"><defs /><text text-anchor=\"middle\" x=\"50%\" y=\"16px\">NNP</text></svg></svg><line stroke=\"black\" x1=\"50%\" x2=\"50%\" y1=\"20px\" y2=\"48px\" /></svg><line stroke=\"black\" x1=\"50%\" x2=\"28.5211%\" y1=\"20px\" y2=\"48px\" /><svg width=\"4.22535%\" x=\"30.9859%\" y=\"48px\"><defs /><svg width=\"100%\" x=\"0\" y=\"0px\"><defs /><text text-anchor=\"middle\" x=\"50%\" y=\"16px\">Jobs</text></svg><svg width=\"100%\" x=\"0%\" y=\"48px\"><defs /><svg width=\"100%\" x=\"0\" y=\"0px\"><defs /><text text-anchor=\"middle\" x=\"50%\" y=\"16px\">NNP</text></svg></svg><line stroke=\"black\" x1=\"50%\" x2=\"50%\" y1=\"20px\" y2=\"48px\" /></svg><line stroke=\"black\" x1=\"50%\" x2=\"33.0986%\" y1=\"20px\" y2=\"48px\" /><svg width=\"3.52113%\" x=\"35.2113%\" y=\"48px\"><defs /><svg width=\"100%\" x=\"0\" y=\"0px\"><defs /><text text-anchor=\"middle\" x=\"50%\" y=\"16px\">'</text></svg><svg width=\"100%\" x=\"0%\" y=\"48px\"><defs /><svg width=\"100%\" x=\"0\" y=\"0px\"><defs /><text text-anchor=\"middle\" x=\"50%\" y=\"16px\">POS</text></svg></svg><line stroke=\"black\" x1=\"50%\" x2=\"50%\" y1=\"20px\" y2=\"48px\" /></svg><line stroke=\"black\" x1=\"50%\" x2=\"36.9718%\" y1=\"20px\" y2=\"48px\" /><svg width=\"5.6338%\" x=\"38.7324%\" y=\"48px\"><defs /><svg width=\"100%\" x=\"0\" y=\"0px\"><defs /><text text-anchor=\"middle\" x=\"50%\" y=\"16px\">visits</text></svg><svg width=\"100%\" x=\"0%\" y=\"48px\"><defs /><svg width=\"100%\" x=\"0\" y=\"0px\"><defs /><text text-anchor=\"middle\" x=\"50%\" y=\"16px\">NNS</text></svg></svg><line stroke=\"black\" x1=\"50%\" x2=\"50%\" y1=\"20px\" y2=\"48px\" /></svg><line stroke=\"black\" x1=\"50%\" x2=\"41.5493%\" y1=\"20px\" y2=\"48px\" /><svg width=\"2.11268%\" x=\"44.3662%\" y=\"48px\"><defs /><svg width=\"100%\" x=\"0\" y=\"0px\"><defs /><text text-anchor=\"middle\" x=\"50%\" y=\"16px\">.</text></svg><svg width=\"100%\" x=\"0%\" y=\"48px\"><defs /><svg width=\"100%\" x=\"0\" y=\"0px\"><defs /><text text-anchor=\"middle\" x=\"50%\" y=\"16px\">.</text></svg></svg><line stroke=\"black\" x1=\"50%\" x2=\"50%\" y1=\"20px\" y2=\"48px\" /></svg><line stroke=\"black\" x1=\"50%\" x2=\"45.4225%\" y1=\"20px\" y2=\"48px\" /><svg width=\"4.22535%\" x=\"46.4789%\" y=\"48px\"><defs /><svg width=\"100%\" x=\"0\" y=\"0px\"><defs /><text text-anchor=\"middle\" x=\"50%\" y=\"16px\">His</text></svg><svg width=\"100%\" x=\"0%\" y=\"48px\"><defs /><svg width=\"100%\" x=\"0\" y=\"0px\"><defs /><text text-anchor=\"middle\" x=\"50%\" y=\"16px\">PRP$</text></svg></svg><line stroke=\"black\" x1=\"50%\" x2=\"50%\" y1=\"20px\" y2=\"48px\" /></svg><line stroke=\"black\" x1=\"50%\" x2=\"48.5915%\" y1=\"20px\" y2=\"48px\" /><svg width=\"5.6338%\" x=\"50.7042%\" y=\"48px\"><defs /><svg width=\"100%\" x=\"0\" y=\"0px\"><defs /><text text-anchor=\"middle\" x=\"50%\" y=\"16px\">visits</text></svg><svg width=\"100%\" x=\"0%\" y=\"48px\"><defs /><svg width=\"100%\" x=\"0\" y=\"0px\"><defs /><text text-anchor=\"middle\" x=\"50%\" y=\"16px\">NNS</text></svg></svg><line stroke=\"black\" x1=\"50%\" x2=\"50%\" y1=\"20px\" y2=\"48px\" /></svg><line stroke=\"black\" x1=\"50%\" x2=\"53.5211%\" y1=\"20px\" y2=\"48px\" /><svg width=\"3.52113%\" x=\"56.338%\" y=\"48px\"><defs /><svg width=\"100%\" x=\"0\" y=\"0px\"><defs /><text text-anchor=\"middle\" x=\"50%\" y=\"16px\">was</text></svg><svg width=\"100%\" x=\"0%\" y=\"48px\"><defs /><svg width=\"100%\" x=\"0\" y=\"0px\"><defs /><text text-anchor=\"middle\" x=\"50%\" y=\"16px\">VBD</text></svg></svg><line stroke=\"black\" x1=\"50%\" x2=\"50%\" y1=\"20px\" y2=\"48px\" /></svg><line stroke=\"black\" x1=\"50%\" x2=\"58.0986%\" y1=\"20px\" y2=\"48px\" /><svg width=\"2.8169%\" x=\"59.8592%\" y=\"48px\"><defs /><svg width=\"100%\" x=\"0\" y=\"0px\"><defs /><text text-anchor=\"middle\" x=\"50%\" y=\"16px\">to</text></svg><svg width=\"100%\" x=\"0%\" y=\"48px\"><defs /><svg width=\"100%\" x=\"0\" y=\"0px\"><defs /><text text-anchor=\"middle\" x=\"50%\" y=\"16px\">TO</text></svg></svg><line stroke=\"black\" x1=\"50%\" x2=\"50%\" y1=\"20px\" y2=\"48px\" /></svg><line stroke=\"black\" x1=\"50%\" x2=\"61.2676%\" y1=\"20px\" y2=\"48px\" /><svg width=\"2.8169%\" x=\"62.6761%\" y=\"48px\"><defs /><svg width=\"100%\" x=\"0\" y=\"0px\"><defs /><text text-anchor=\"middle\" x=\"50%\" y=\"16px\">an</text></svg><svg width=\"100%\" x=\"0%\" y=\"48px\"><defs /><svg width=\"100%\" x=\"0\" y=\"0px\"><defs /><text text-anchor=\"middle\" x=\"50%\" y=\"16px\">DT</text></svg></svg><line stroke=\"black\" x1=\"50%\" x2=\"50%\" y1=\"20px\" y2=\"48px\" /></svg><line stroke=\"black\" x1=\"50%\" x2=\"64.0845%\" y1=\"20px\" y2=\"48px\" /><svg width=\"4.92958%\" x=\"65.493%\" y=\"48px\"><defs /><svg width=\"100%\" x=\"0\" y=\"0px\"><defs /><text text-anchor=\"middle\" x=\"50%\" y=\"16px\">apple</text></svg><svg width=\"100%\" x=\"0%\" y=\"48px\"><defs /><svg width=\"100%\" x=\"0\" y=\"0px\"><defs /><text text-anchor=\"middle\" x=\"50%\" y=\"16px\">NN</text></svg></svg><line stroke=\"black\" x1=\"50%\" x2=\"50%\" y1=\"20px\" y2=\"48px\" /></svg><line stroke=\"black\" x1=\"50%\" x2=\"67.9577%\" y1=\"20px\" y2=\"48px\" /><svg width=\"4.22535%\" x=\"70.4225%\" y=\"48px\"><defs /><svg width=\"100%\" x=\"0\" y=\"0px\"><defs /><text text-anchor=\"middle\" x=\"50%\" y=\"16px\">farm</text></svg><svg width=\"100%\" x=\"0%\" y=\"48px\"><defs /><svg width=\"100%\" x=\"0\" y=\"0px\"><defs /><text text-anchor=\"middle\" x=\"50%\" y=\"16px\">NN</text></svg></svg><line stroke=\"black\" x1=\"50%\" x2=\"50%\" y1=\"20px\" y2=\"48px\" /></svg><line stroke=\"black\" x1=\"50%\" x2=\"72.5352%\" y1=\"20px\" y2=\"48px\" /><svg width=\"4.92958%\" x=\"74.6479%\" y=\"48px\"><defs /><svg width=\"100%\" x=\"0\" y=\"0px\"><defs /><text text-anchor=\"middle\" x=\"50%\" y=\"16px\">while</text></svg><svg width=\"100%\" x=\"0%\" y=\"48px\"><defs /><svg width=\"100%\" x=\"0\" y=\"0px\"><defs /><text text-anchor=\"middle\" x=\"50%\" y=\"16px\">IN</text></svg></svg><line stroke=\"black\" x1=\"50%\" x2=\"50%\" y1=\"20px\" y2=\"48px\" /></svg><line stroke=\"black\" x1=\"50%\" x2=\"77.1127%\" y1=\"20px\" y2=\"48px\" /><svg width=\"2.8169%\" x=\"79.5775%\" y=\"48px\"><defs /><svg width=\"100%\" x=\"0\" y=\"0px\"><defs /><text text-anchor=\"middle\" x=\"50%\" y=\"16px\">on</text></svg><svg width=\"100%\" x=\"0%\" y=\"48px\"><defs /><svg width=\"100%\" x=\"0\" y=\"0px\"><defs /><text text-anchor=\"middle\" x=\"50%\" y=\"16px\">IN</text></svg></svg><line stroke=\"black\" x1=\"50%\" x2=\"50%\" y1=\"20px\" y2=\"48px\" /></svg><line stroke=\"black\" x1=\"50%\" x2=\"80.9859%\" y1=\"20px\" y2=\"48px\" /><svg width=\"2.8169%\" x=\"82.3944%\" y=\"48px\"><defs /><svg width=\"100%\" x=\"0\" y=\"0px\"><defs /><text text-anchor=\"middle\" x=\"50%\" y=\"16px\">a</text></svg><svg width=\"100%\" x=\"0%\" y=\"48px\"><defs /><svg width=\"100%\" x=\"0\" y=\"0px\"><defs /><text text-anchor=\"middle\" x=\"50%\" y=\"16px\">DT</text></svg></svg><line stroke=\"black\" x1=\"50%\" x2=\"50%\" y1=\"20px\" y2=\"48px\" /></svg><line stroke=\"black\" x1=\"50%\" x2=\"83.8028%\" y1=\"20px\" y2=\"48px\" /><svg width=\"8.4507%\" x=\"85.2113%\" y=\"48px\"><defs /><svg width=\"100%\" x=\"0\" y=\"0px\"><defs /><text text-anchor=\"middle\" x=\"50%\" y=\"16px\">fruitarian</text></svg><svg width=\"100%\" x=\"0%\" y=\"48px\"><defs /><svg width=\"100%\" x=\"0\" y=\"0px\"><defs /><text text-anchor=\"middle\" x=\"50%\" y=\"16px\">JJ</text></svg></svg><line stroke=\"black\" x1=\"50%\" x2=\"50%\" y1=\"20px\" y2=\"48px\" /></svg><line stroke=\"black\" x1=\"50%\" x2=\"89.4366%\" y1=\"20px\" y2=\"48px\" /><svg width=\"4.22535%\" x=\"93.662%\" y=\"48px\"><defs /><svg width=\"100%\" x=\"0\" y=\"0px\"><defs /><text text-anchor=\"middle\" x=\"50%\" y=\"16px\">diet</text></svg><svg width=\"100%\" x=\"0%\" y=\"48px\"><defs /><svg width=\"100%\" x=\"0\" y=\"0px\"><defs /><text text-anchor=\"middle\" x=\"50%\" y=\"16px\">NN</text></svg></svg><line stroke=\"black\" x1=\"50%\" x2=\"50%\" y1=\"20px\" y2=\"48px\" /></svg><line stroke=\"black\" x1=\"50%\" x2=\"95.7746%\" y1=\"20px\" y2=\"48px\" /><svg width=\"2.11268%\" x=\"97.8873%\" y=\"48px\"><defs /><svg width=\"100%\" x=\"0\" y=\"0px\"><defs /><text text-anchor=\"middle\" x=\"50%\" y=\"16px\">.</text></svg><svg width=\"100%\" x=\"0%\" y=\"48px\"><defs /><svg width=\"100%\" x=\"0\" y=\"0px\"><defs /><text text-anchor=\"middle\" x=\"50%\" y=\"16px\">.</text></svg></svg><line stroke=\"black\" x1=\"50%\" x2=\"50%\" y1=\"20px\" y2=\"48px\" /></svg><line stroke=\"black\" x1=\"50%\" x2=\"98.9437%\" y1=\"20px\" y2=\"48px\" /></svg>"
          },
          "metadata": {}
        }
      ]
    },
    {
      "cell_type": "markdown",
      "source": [
        "[University of Pennsylvania] (https://guides.library.upenn.edu/penntdm/python/nltk)\n",
        "\n"
      ],
      "metadata": {
        "id": "WhOR6HoX9NYL"
      }
    }
  ],
  "metadata": {
    "colab": {
      "provenance": []
    },
    "kernelspec": {
      "display_name": "Python 3 (Anaconda)",
      "language": "python",
      "name": "anaconda3"
    },
    "language_info": {
      "codemirror_mode": {
        "name": "ipython",
        "version": 3
      },
      "file_extension": ".py",
      "mimetype": "text/x-python",
      "name": "python",
      "nbconvert_exporter": "python",
      "pygments_lexer": "ipython3",
      "version": "3.5.4"
    }
  },
  "nbformat": 4,
  "nbformat_minor": 0
}
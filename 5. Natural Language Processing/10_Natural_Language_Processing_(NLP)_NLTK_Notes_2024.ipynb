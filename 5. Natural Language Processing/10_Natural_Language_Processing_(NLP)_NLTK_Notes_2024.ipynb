{
  "cells": [
    {
      "cell_type": "markdown",
      "metadata": {
        "id": "view-in-github"
      },
      "source": [
        "<a href=\"https://colab.research.google.com/github/anumit-web/python-interview-2024/blob/main/machine%20learning/Unsupervised_Learning_clustering_type_iris_flower_clustering_Gaussian_mixture_model_(GMM).ipynb\" target=\"_parent\"><img src=\"https://colab.research.google.com/assets/colab-badge.svg\" alt=\"Open In Colab\"/></a>"
      ]
    },
    {
      "cell_type": "markdown",
      "metadata": {
        "id": "e8lzIrkY9qBJ"
      },
      "source": [
        "# Python interview preparation"
      ]
    },
    {
      "cell_type": "markdown",
      "source": [
        "# Natural Language Processing (NLP)"
      ],
      "metadata": {
        "id": "tomuVIUl9uY6"
      }
    },
    {
      "cell_type": "markdown",
      "source": [
        "# Chapter 1"
      ],
      "metadata": {
        "id": "Ow1vTaKl9oHQ"
      }
    },
    {
      "cell_type": "markdown",
      "source": [
        "---"
      ],
      "metadata": {
        "id": "Ko4QaixAfPyF"
      }
    },
    {
      "cell_type": "markdown",
      "metadata": {
        "id": "q8Vn6fvLFJGH"
      },
      "source": [
        "# Machine Learning\n",
        "# Natural Language Processing (NLP)"
      ]
    },
    {
      "cell_type": "markdown",
      "source": [
        "What is NLTK?\n",
        "NLTK is a free, open-source library for advanced Natural Language Processing (NLP) in Python.\n",
        "\n",
        "What can it do for you?\n"
      ],
      "metadata": {
        "id": "gJO7K5ra955w"
      }
    },
    {
      "cell_type": "markdown",
      "source": [
        "basic text preprocessing techniques that NLTK supports\n",
        "\n",
        "some of the advanced features of NLKT:\n",
        "\n",
        "1. Sentence detection\n",
        "\n",
        "2. Tokenization\n",
        "\n",
        "3. Stop word removal\n",
        "\n",
        "4. Part-of-speech tagging\n",
        "\n",
        "5. Word frequencies\n",
        "\n",
        "6. Lemmatization\n",
        "\n",
        "7. Chunking and Chinking"
      ],
      "metadata": {
        "id": "bZW63qaK-cBb"
      }
    },
    {
      "cell_type": "markdown",
      "source": [
        "---"
      ],
      "metadata": {
        "id": "K4uUP85Ez_02"
      }
    },
    {
      "cell_type": "code",
      "execution_count": 27,
      "metadata": {
        "id": "3pRBaqLz9atZ"
      },
      "outputs": [],
      "source": [
        "import numpy as np\n",
        "import pandas as pd"
      ]
    },
    {
      "cell_type": "code",
      "execution_count": 28,
      "metadata": {
        "id": "TFXpB4wv-5-1",
        "colab": {
          "base_uri": "https://localhost:8080/"
        },
        "outputId": "d591ee03-d267-45d2-fd5f-4083052bb085"
      },
      "outputs": [
        {
          "output_type": "stream",
          "name": "stdout",
          "text": [
            "3.10.12 (main, Sep 11 2024, 15:47:36) [GCC 11.4.0]\n"
          ]
        }
      ],
      "source": [
        "import sys\n",
        "\n",
        "print(sys.version)"
      ]
    },
    {
      "cell_type": "code",
      "execution_count": 29,
      "metadata": {
        "colab": {
          "base_uri": "https://localhost:8080/"
        },
        "id": "N0djESK29att",
        "outputId": "a2f11b27-dc2c-4861-a3f5-358946608fcf"
      },
      "outputs": [
        {
          "output_type": "stream",
          "name": "stdout",
          "text": [
            "Hello, World!\n"
          ]
        }
      ],
      "source": [
        "print(\"Hello, World!\")"
      ]
    },
    {
      "cell_type": "code",
      "execution_count": 29,
      "metadata": {
        "id": "nfFMli_AEOK2"
      },
      "outputs": [],
      "source": []
    },
    {
      "cell_type": "markdown",
      "source": [
        "# Python code"
      ],
      "metadata": {
        "id": "MR391vUc7l-N"
      }
    },
    {
      "cell_type": "markdown",
      "source": [
        "1. Sentence Detection (Sentence Boundary Detection)"
      ],
      "metadata": {
        "id": "yKXoY6HoATUt"
      }
    },
    {
      "cell_type": "code",
      "execution_count": 30,
      "metadata": {
        "id": "Il5GhWFYEOsa",
        "colab": {
          "base_uri": "https://localhost:8080/"
        },
        "outputId": "0b5edd5f-8041-4104-cd25-4509a6d623e8"
      },
      "outputs": [
        {
          "output_type": "stream",
          "name": "stdout",
          "text": [
            "**************\n",
            "Apple's name was inspired by Steve Jobs' visit.\n",
            "His visit was to an apple farm while on a fruitarian diet.\n"
          ]
        },
        {
          "output_type": "stream",
          "name": "stderr",
          "text": [
            "[nltk_data] Downloading package punkt to /root/nltk_data...\n",
            "[nltk_data]   Package punkt is already up-to-date!\n"
          ]
        }
      ],
      "source": [
        "import nltk\n",
        "from nltk.tokenize import sent_tokenize, word_tokenize\n",
        "\n",
        "nltk.download('punkt')    # Use nltk downloader to download resource \"punkt\"\n",
        "output = (\"Apple's name was inspired by Steve Jobs' visit. His visit was to an apple farm while on a fruitarian diet.\")\n",
        "\n",
        "# Create a string object. By default, the function breaks sentences by periods.\n",
        "# Customize text or read files as needed\n",
        "\n",
        "# Tokenize output (sentence-level)\n",
        "sentences = sent_tokenize(output)\n",
        "\n",
        "print(\"**************\")\n",
        "for sentence in sentences:\n",
        "# Print each sentence in the output with one sentence a line\n",
        "    print(sentence)"
      ]
    },
    {
      "cell_type": "markdown",
      "source": [
        "2. Tokenization"
      ],
      "metadata": {
        "id": "rOz3EqKqBiaW"
      }
    },
    {
      "cell_type": "code",
      "execution_count": 31,
      "metadata": {
        "id": "laFvPGe_EPHf",
        "colab": {
          "base_uri": "https://localhost:8080/"
        },
        "outputId": "6f723fcf-98eb-494c-bdd0-3e854b859acc"
      },
      "outputs": [
        {
          "output_type": "stream",
          "name": "stdout",
          "text": [
            "Apple\n",
            "'s\n",
            "name\n",
            "was\n",
            "inspired\n",
            "by\n",
            "Steve\n",
            "Jobs\n",
            "'\n",
            "visit\n",
            ".\n",
            "His\n",
            "visit\n",
            "was\n",
            "to\n",
            "an\n",
            "apple\n",
            "farm\n",
            "while\n",
            "on\n",
            "a\n",
            "fruitarian\n",
            "diet\n",
            ".\n"
          ]
        },
        {
          "output_type": "stream",
          "name": "stderr",
          "text": [
            "[nltk_data] Downloading package punkt to /root/nltk_data...\n",
            "[nltk_data]   Package punkt is already up-to-date!\n"
          ]
        }
      ],
      "source": [
        "import nltk\n",
        "from nltk.tokenize import sent_tokenize, word_tokenize\n",
        "nltk.download('punkt')    # Use nltk downloader to download resource \"punkt\"\n",
        "\n",
        "output = (\"Apple's name was inspired by Steve Jobs' visit. His visit was to an apple farm while on a fruitarian diet.\")\n",
        "# Create a string object. By default, the function breaks sentences by periods\n",
        "# Customize text or read files as needed\n",
        "\n",
        "# Tokenize output (word-level)\n",
        "words = word_tokenize(output)\n",
        "\n",
        "for word in words:\n",
        "# Print each sentence in the output with one sentence a line\n",
        "    print(word)"
      ]
    },
    {
      "cell_type": "code",
      "execution_count": 31,
      "metadata": {
        "id": "2d4r9-x8EPmJ"
      },
      "outputs": [],
      "source": []
    },
    {
      "cell_type": "code",
      "execution_count": 31,
      "metadata": {
        "id": "pM4D78FVEQFG"
      },
      "outputs": [],
      "source": []
    },
    {
      "cell_type": "code",
      "execution_count": 31,
      "metadata": {
        "id": "AC_KZzEdEQhJ"
      },
      "outputs": [],
      "source": []
    },
    {
      "cell_type": "markdown",
      "source": [
        "[University of Pennsylvania] (https://guides.library.upenn.edu/penntdm/python/nltk)\n",
        "\n"
      ],
      "metadata": {
        "id": "WhOR6HoX9NYL"
      }
    }
  ],
  "metadata": {
    "colab": {
      "provenance": []
    },
    "kernelspec": {
      "display_name": "Python 3 (Anaconda)",
      "language": "python",
      "name": "anaconda3"
    },
    "language_info": {
      "codemirror_mode": {
        "name": "ipython",
        "version": 3
      },
      "file_extension": ".py",
      "mimetype": "text/x-python",
      "name": "python",
      "nbconvert_exporter": "python",
      "pygments_lexer": "ipython3",
      "version": "3.5.4"
    }
  },
  "nbformat": 4,
  "nbformat_minor": 0
}
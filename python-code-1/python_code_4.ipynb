{
  "cells": [
    {
      "cell_type": "markdown",
      "metadata": {
        "id": "view-in-github",
        "colab_type": "text"
      },
      "source": [
        "<a href=\"https://colab.research.google.com/github/anumit-web/python-interview-2024/blob/main/python-code-1/python_code_4.ipynb\" target=\"_parent\"><img src=\"https://colab.research.google.com/assets/colab-badge.svg\" alt=\"Open In Colab\"/></a>"
      ]
    },
    {
      "cell_type": "markdown",
      "source": [
        "# Python interview preparation"
      ],
      "metadata": {
        "id": "e8lzIrkY9qBJ"
      }
    },
    {
      "cell_type": "markdown",
      "source": [
        "# Chapter 4"
      ],
      "metadata": {
        "id": "KuVsvVC1I9-Q"
      }
    },
    {
      "cell_type": "markdown",
      "source": [
        "#Table of contents\n",
        "\n",
        "# Python Numbers\n",
        "# Python Strings\n",
        "[ (link) ](#python_variables)\n",
        "\n",
        "<a href='#the_destination'>Link to des</a>"
      ],
      "metadata": {
        "id": "62g2UMta3Nx-"
      }
    },
    {
      "cell_type": "code",
      "execution_count": 69,
      "metadata": {
        "id": "3pRBaqLz9atZ"
      },
      "outputs": [],
      "source": [
        "import numpy as np\n",
        "import pandas as pd"
      ]
    },
    {
      "cell_type": "raw",
      "metadata": {
        "collapsed": false,
        "id": "KgtiygFW9ats"
      },
      "source": []
    },
    {
      "cell_type": "code",
      "execution_count": 70,
      "metadata": {
        "colab": {
          "base_uri": "https://localhost:8080/"
        },
        "id": "N0djESK29att",
        "outputId": "01d3278e-0395-4b87-d216-99577472d2ec"
      },
      "outputs": [
        {
          "output_type": "stream",
          "name": "stdout",
          "text": [
            "Hello, World!\n"
          ]
        }
      ],
      "source": [
        "print(\"Hello, World!\")"
      ]
    },
    {
      "cell_type": "code",
      "source": [
        "import sys\n",
        "\n",
        "print(sys.version)"
      ],
      "metadata": {
        "colab": {
          "base_uri": "https://localhost:8080/"
        },
        "id": "TFXpB4wv-5-1",
        "outputId": "e6a1c3a4-6546-4918-a9b5-719d2895819c"
      },
      "execution_count": 71,
      "outputs": [
        {
          "output_type": "stream",
          "name": "stdout",
          "text": [
            "3.10.12 (main, Sep 11 2024, 15:47:36) [GCC 11.4.0]\n"
          ]
        }
      ]
    },
    {
      "cell_type": "markdown",
      "source": [
        "# Python Numbers"
      ],
      "metadata": {
        "id": "s5V5NU98dBpL"
      }
    },
    {
      "cell_type": "markdown",
      "source": [
        "<a id='python_variables'>link to this cell\n",
        "</a>\n",
        "\n",
        "<a id='the_destination'></a>"
      ],
      "metadata": {
        "id": "94eXhfRc8pMz"
      }
    },
    {
      "cell_type": "markdown",
      "source": [
        "Getting the Data Type"
      ],
      "metadata": {
        "id": "0AyO9ujoNHsS"
      }
    },
    {
      "cell_type": "markdown",
      "source": [
        "# Python Tuples"
      ],
      "metadata": {
        "id": "ll4g-qtCW19X"
      }
    },
    {
      "cell_type": "code",
      "source": [
        "thistuple = (\"apple\", \"banana\", \"cherry\")\n",
        "print(thistuple)"
      ],
      "metadata": {
        "colab": {
          "base_uri": "https://localhost:8080/"
        },
        "id": "CgOV-ffXLUnG",
        "outputId": "2ade261b-bd91-4326-9911-20b720102fdb"
      },
      "execution_count": 72,
      "outputs": [
        {
          "output_type": "stream",
          "name": "stdout",
          "text": [
            "('apple', 'banana', 'cherry')\n"
          ]
        }
      ]
    },
    {
      "cell_type": "markdown",
      "source": [
        "ordered, unchangeable, allow duplicates"
      ],
      "metadata": {
        "id": "BzssPrItLcPx"
      }
    },
    {
      "cell_type": "code",
      "source": [
        "thistuple = (\"apple\", \"banana\", \"cherry\", \"apple\", \"cherry\")\n",
        "print(thistuple)"
      ],
      "metadata": {
        "colab": {
          "base_uri": "https://localhost:8080/"
        },
        "id": "hPhMcxBYLjnn",
        "outputId": "0f5894ad-2459-47ed-d5c6-92cbb853956c"
      },
      "execution_count": 73,
      "outputs": [
        {
          "output_type": "stream",
          "name": "stdout",
          "text": [
            "('apple', 'banana', 'cherry', 'apple', 'cherry')\n"
          ]
        }
      ]
    },
    {
      "cell_type": "markdown",
      "source": [
        "tuple length"
      ],
      "metadata": {
        "id": "o6Y7oooQLs_c"
      }
    },
    {
      "cell_type": "code",
      "source": [
        "thistuple = (\"apple\", \"banana\", \"cherry\")\n",
        "print(len(thistuple))"
      ],
      "metadata": {
        "colab": {
          "base_uri": "https://localhost:8080/"
        },
        "id": "nAD2UEpDLvDD",
        "outputId": "e0a6ace9-fdfa-4f0a-c1a2-3a1fb2e89755"
      },
      "execution_count": 74,
      "outputs": [
        {
          "output_type": "stream",
          "name": "stdout",
          "text": [
            "3\n"
          ]
        }
      ]
    },
    {
      "cell_type": "markdown",
      "source": [
        "String, int and boolean data types:"
      ],
      "metadata": {
        "id": "FoaxGztVL3Ok"
      }
    },
    {
      "cell_type": "code",
      "source": [
        "tuple1 = (\"apple\", \"banana\", \"cherry\")\n",
        "tuple2 = (1, 5, 7, 9, 3)\n",
        "tuple3 = (True, False, False)"
      ],
      "metadata": {
        "id": "M0zGzqvIL6_f"
      },
      "execution_count": 75,
      "outputs": []
    },
    {
      "cell_type": "markdown",
      "source": [
        "print data type"
      ],
      "metadata": {
        "id": "vy9a7KCxMMF9"
      }
    },
    {
      "cell_type": "code",
      "source": [
        "mytuple = (\"apple\", \"banana\", \"cherry\")\n",
        "print(type(mytuple))"
      ],
      "metadata": {
        "colab": {
          "base_uri": "https://localhost:8080/"
        },
        "id": "IOCmeJf4MOko",
        "outputId": "ee2164ca-cff7-473f-ea59-b1ab83a651cb"
      },
      "execution_count": 76,
      "outputs": [
        {
          "output_type": "stream",
          "name": "stdout",
          "text": [
            "<class 'tuple'>\n"
          ]
        }
      ]
    },
    {
      "cell_type": "markdown",
      "source": [
        "## Access Tuple Items"
      ],
      "metadata": {
        "id": "8OGKoxptMiWK"
      }
    },
    {
      "cell_type": "code",
      "source": [
        "thistuple = (\"apple\", \"banana\", \"cherry\")\n",
        "print(thistuple[1])"
      ],
      "metadata": {
        "colab": {
          "base_uri": "https://localhost:8080/"
        },
        "id": "8f0samkYMle6",
        "outputId": "8f81d0d4-303c-41ab-d2da-b14c8e737c7d"
      },
      "execution_count": 77,
      "outputs": [
        {
          "output_type": "stream",
          "name": "stdout",
          "text": [
            "banana\n"
          ]
        }
      ]
    },
    {
      "cell_type": "markdown",
      "source": [
        "Check if Item Exists"
      ],
      "metadata": {
        "id": "uQMY9giOM1yi"
      }
    },
    {
      "cell_type": "code",
      "source": [
        "thistuple = (\"apple\", \"banana\", \"cherry\")\n",
        "if \"apple\" in thistuple:\n",
        "  print(\"Yes, 'apple' is in the fruits tuple\")"
      ],
      "metadata": {
        "colab": {
          "base_uri": "https://localhost:8080/"
        },
        "id": "tK692COJM4MU",
        "outputId": "192a1866-f1dc-4356-f198-f513b06236a3"
      },
      "execution_count": 78,
      "outputs": [
        {
          "output_type": "stream",
          "name": "stdout",
          "text": [
            "Yes, 'apple' is in the fruits tuple\n"
          ]
        }
      ]
    },
    {
      "cell_type": "code",
      "source": [],
      "metadata": {
        "id": "tgrWzfSAOg4p"
      },
      "execution_count": 78,
      "outputs": []
    },
    {
      "cell_type": "markdown",
      "source": [
        "Remove Items\n",
        "\n",
        "Note: You cannot remove items in a tuple."
      ],
      "metadata": {
        "id": "swETCX5FOhm_"
      }
    },
    {
      "cell_type": "markdown",
      "source": [
        "## Unpack Tuples"
      ],
      "metadata": {
        "id": "E2gZ-V2BQpy6"
      }
    },
    {
      "cell_type": "code",
      "source": [
        "fruits = (\"apple\", \"banana\", \"cherry\")\n",
        "\n",
        "(green, yellow, red) = fruits\n",
        "\n",
        "print(green)\n",
        "print(yellow)\n",
        "print(red)"
      ],
      "metadata": {
        "colab": {
          "base_uri": "https://localhost:8080/"
        },
        "id": "6ZDqB2uVQvQm",
        "outputId": "8d42ffd3-f7e4-4faa-a8ed-8953e16df98a"
      },
      "execution_count": 79,
      "outputs": [
        {
          "output_type": "stream",
          "name": "stdout",
          "text": [
            "apple\n",
            "banana\n",
            "cherry\n"
          ]
        }
      ]
    },
    {
      "cell_type": "markdown",
      "source": [
        "## Loop Tuples"
      ],
      "metadata": {
        "id": "sJvcg_8iRBtJ"
      }
    },
    {
      "cell_type": "code",
      "source": [
        "thistuple = (\"apple\", \"banana\", \"cherry\")\n",
        "for x in thistuple:\n",
        "  print(x)"
      ],
      "metadata": {
        "id": "FxXi1WndRFug",
        "outputId": "f1d041ee-726a-41e0-d382-a53768e6d05f",
        "colab": {
          "base_uri": "https://localhost:8080/"
        }
      },
      "execution_count": 80,
      "outputs": [
        {
          "output_type": "stream",
          "name": "stdout",
          "text": [
            "apple\n",
            "banana\n",
            "cherry\n"
          ]
        }
      ]
    }
  ],
  "metadata": {
    "kernelspec": {
      "display_name": "Python 3 (Anaconda)",
      "language": "python",
      "name": "anaconda3"
    },
    "language_info": {
      "codemirror_mode": {
        "name": "ipython",
        "version": 3
      },
      "file_extension": ".py",
      "mimetype": "text/x-python",
      "name": "python",
      "nbconvert_exporter": "python",
      "pygments_lexer": "ipython3",
      "version": "3.5.4"
    },
    "colab": {
      "provenance": [],
      "toc_visible": true,
      "include_colab_link": true
    }
  },
  "nbformat": 4,
  "nbformat_minor": 0
}
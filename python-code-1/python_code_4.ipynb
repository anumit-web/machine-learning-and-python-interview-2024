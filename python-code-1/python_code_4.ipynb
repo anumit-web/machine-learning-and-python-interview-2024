{
  "cells": [
    {
      "cell_type": "markdown",
      "metadata": {
        "id": "view-in-github",
        "colab_type": "text"
      },
      "source": [
        "<a href=\"https://colab.research.google.com/github/anumit-web/python-interview-2024/blob/main/python-code-1/python_code_4.ipynb\" target=\"_parent\"><img src=\"https://colab.research.google.com/assets/colab-badge.svg\" alt=\"Open In Colab\"/></a>"
      ]
    },
    {
      "cell_type": "markdown",
      "source": [
        "# Python interview preparation"
      ],
      "metadata": {
        "id": "e8lzIrkY9qBJ"
      }
    },
    {
      "cell_type": "markdown",
      "source": [
        "# Chapter 4"
      ],
      "metadata": {
        "id": "KuVsvVC1I9-Q"
      }
    },
    {
      "cell_type": "markdown",
      "source": [
        "#Table of contents\n",
        "\n",
        "# Python Numbers\n",
        "# Python Strings\n",
        "[ (link) ](#python_variables)\n",
        "\n",
        "<a href='#the_destination'>Link to des</a>"
      ],
      "metadata": {
        "id": "62g2UMta3Nx-"
      }
    },
    {
      "cell_type": "code",
      "execution_count": 13,
      "metadata": {
        "id": "3pRBaqLz9atZ"
      },
      "outputs": [],
      "source": [
        "import numpy as np\n",
        "import pandas as pd"
      ]
    },
    {
      "cell_type": "raw",
      "metadata": {
        "collapsed": false,
        "id": "KgtiygFW9ats"
      },
      "source": []
    },
    {
      "cell_type": "code",
      "execution_count": 14,
      "metadata": {
        "colab": {
          "base_uri": "https://localhost:8080/"
        },
        "id": "N0djESK29att",
        "outputId": "10e5c961-9072-4725-ce2d-f5a45962591e"
      },
      "outputs": [
        {
          "output_type": "stream",
          "name": "stdout",
          "text": [
            "Hello, World!\n"
          ]
        }
      ],
      "source": [
        "print(\"Hello, World!\")"
      ]
    },
    {
      "cell_type": "code",
      "source": [
        "import sys\n",
        "\n",
        "print(sys.version)"
      ],
      "metadata": {
        "colab": {
          "base_uri": "https://localhost:8080/"
        },
        "id": "TFXpB4wv-5-1",
        "outputId": "dfb5affd-3839-4580-ee9f-3fc0297d6797"
      },
      "execution_count": 15,
      "outputs": [
        {
          "output_type": "stream",
          "name": "stdout",
          "text": [
            "3.10.12 (main, Sep 11 2024, 15:47:36) [GCC 11.4.0]\n"
          ]
        }
      ]
    },
    {
      "cell_type": "markdown",
      "source": [
        "# Python Numbers"
      ],
      "metadata": {
        "id": "s5V5NU98dBpL"
      }
    },
    {
      "cell_type": "markdown",
      "source": [
        "<a id='python_variables'>link to this cell\n",
        "</a>\n",
        "\n",
        "<a id='the_destination'></a>"
      ],
      "metadata": {
        "id": "94eXhfRc8pMz"
      }
    },
    {
      "cell_type": "markdown",
      "source": [
        "Getting the Data Type"
      ],
      "metadata": {
        "id": "0AyO9ujoNHsS"
      }
    },
    {
      "cell_type": "markdown",
      "source": [
        "# Python Tuples"
      ],
      "metadata": {
        "id": "ll4g-qtCW19X"
      }
    },
    {
      "cell_type": "code",
      "source": [
        "thistuple = (\"apple\", \"banana\", \"cherry\")\n",
        "print(thistuple)"
      ],
      "metadata": {
        "colab": {
          "base_uri": "https://localhost:8080/"
        },
        "id": "CgOV-ffXLUnG",
        "outputId": "3601339c-1b87-40dd-df8a-39953f27c8e3"
      },
      "execution_count": 16,
      "outputs": [
        {
          "output_type": "stream",
          "name": "stdout",
          "text": [
            "('apple', 'banana', 'cherry')\n"
          ]
        }
      ]
    },
    {
      "cell_type": "markdown",
      "source": [
        "ordered, unchangeable, allow duplicates"
      ],
      "metadata": {
        "id": "BzssPrItLcPx"
      }
    },
    {
      "cell_type": "code",
      "source": [
        "thistuple = (\"apple\", \"banana\", \"cherry\", \"apple\", \"cherry\")\n",
        "print(thistuple)"
      ],
      "metadata": {
        "colab": {
          "base_uri": "https://localhost:8080/"
        },
        "id": "hPhMcxBYLjnn",
        "outputId": "efe0a747-2a7f-4560-fe98-f0d858fbfe3e"
      },
      "execution_count": 17,
      "outputs": [
        {
          "output_type": "stream",
          "name": "stdout",
          "text": [
            "('apple', 'banana', 'cherry', 'apple', 'cherry')\n"
          ]
        }
      ]
    },
    {
      "cell_type": "markdown",
      "source": [
        "tuple length"
      ],
      "metadata": {
        "id": "o6Y7oooQLs_c"
      }
    },
    {
      "cell_type": "code",
      "source": [
        "thistuple = (\"apple\", \"banana\", \"cherry\")\n",
        "print(len(thistuple))"
      ],
      "metadata": {
        "colab": {
          "base_uri": "https://localhost:8080/"
        },
        "id": "nAD2UEpDLvDD",
        "outputId": "5b0940d7-86ec-402c-caf7-acc785df77ae"
      },
      "execution_count": 18,
      "outputs": [
        {
          "output_type": "stream",
          "name": "stdout",
          "text": [
            "3\n"
          ]
        }
      ]
    },
    {
      "cell_type": "markdown",
      "source": [
        "String, int and boolean data types:"
      ],
      "metadata": {
        "id": "FoaxGztVL3Ok"
      }
    },
    {
      "cell_type": "code",
      "source": [
        "tuple1 = (\"apple\", \"banana\", \"cherry\")\n",
        "tuple2 = (1, 5, 7, 9, 3)\n",
        "tuple3 = (True, False, False)"
      ],
      "metadata": {
        "id": "M0zGzqvIL6_f"
      },
      "execution_count": 19,
      "outputs": []
    },
    {
      "cell_type": "markdown",
      "source": [
        "print data type"
      ],
      "metadata": {
        "id": "vy9a7KCxMMF9"
      }
    },
    {
      "cell_type": "code",
      "source": [
        "mytuple = (\"apple\", \"banana\", \"cherry\")\n",
        "print(type(mytuple))"
      ],
      "metadata": {
        "id": "IOCmeJf4MOko",
        "outputId": "5ddf7e5d-7356-4ffe-dd26-4d4e19a88555",
        "colab": {
          "base_uri": "https://localhost:8080/"
        }
      },
      "execution_count": 20,
      "outputs": [
        {
          "output_type": "stream",
          "name": "stdout",
          "text": [
            "<class 'tuple'>\n"
          ]
        }
      ]
    }
  ],
  "metadata": {
    "kernelspec": {
      "display_name": "Python 3 (Anaconda)",
      "language": "python",
      "name": "anaconda3"
    },
    "language_info": {
      "codemirror_mode": {
        "name": "ipython",
        "version": 3
      },
      "file_extension": ".py",
      "mimetype": "text/x-python",
      "name": "python",
      "nbconvert_exporter": "python",
      "pygments_lexer": "ipython3",
      "version": "3.5.4"
    },
    "colab": {
      "provenance": [],
      "toc_visible": true,
      "include_colab_link": true
    }
  },
  "nbformat": 4,
  "nbformat_minor": 0
}
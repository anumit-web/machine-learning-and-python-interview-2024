{
  "cells": [
    {
      "cell_type": "markdown",
      "metadata": {
        "id": "view-in-github",
        "colab_type": "text"
      },
      "source": [
        "<a href=\"https://colab.research.google.com/github/anumit-web/python-interview-2024/blob/main/python-code-1/python-code-1.ipynb\" target=\"_parent\"><img src=\"https://colab.research.google.com/assets/colab-badge.svg\" alt=\"Open In Colab\"/></a>"
      ]
    },
    {
      "cell_type": "markdown",
      "source": [
        "# Python interview preparation"
      ],
      "metadata": {
        "id": "e8lzIrkY9qBJ"
      }
    },
    {
      "cell_type": "markdown",
      "source": [
        "#Table of contents\n",
        "## Python - Variable Names\n",
        "[ (link) ](#python_variables)\n",
        "\n",
        "<a href='#the_destination'>Link to the destination'</a>"
      ],
      "metadata": {
        "id": "62g2UMta3Nx-"
      }
    },
    {
      "cell_type": "code",
      "execution_count": 200,
      "metadata": {
        "id": "3pRBaqLz9atZ"
      },
      "outputs": [],
      "source": [
        "import numpy as np\n",
        "import pandas as pd"
      ]
    },
    {
      "cell_type": "raw",
      "metadata": {
        "collapsed": false,
        "id": "KgtiygFW9ats"
      },
      "source": []
    },
    {
      "cell_type": "code",
      "execution_count": 201,
      "metadata": {
        "colab": {
          "base_uri": "https://localhost:8080/"
        },
        "id": "N0djESK29att",
        "outputId": "87b8e15d-2ce0-492a-8a8d-d0b0aac7081d"
      },
      "outputs": [
        {
          "output_type": "stream",
          "name": "stdout",
          "text": [
            "Hello, World!\n"
          ]
        }
      ],
      "source": [
        "print(\"Hello, World!\")"
      ]
    },
    {
      "cell_type": "code",
      "source": [
        "import sys\n",
        "\n",
        "print(sys.version)"
      ],
      "metadata": {
        "colab": {
          "base_uri": "https://localhost:8080/"
        },
        "id": "TFXpB4wv-5-1",
        "outputId": "f0aeb30f-ddbe-436c-cf11-b5f39565e695"
      },
      "execution_count": 202,
      "outputs": [
        {
          "output_type": "stream",
          "name": "stdout",
          "text": [
            "3.10.12 (main, Sep 11 2024, 15:47:36) [GCC 11.4.0]\n"
          ]
        }
      ]
    },
    {
      "cell_type": "code",
      "source": [
        "if 5 > 2:\n",
        "  print(\"Five is greater than two!\")"
      ],
      "metadata": {
        "colab": {
          "base_uri": "https://localhost:8080/"
        },
        "id": "vm_TaU0h_U2G",
        "outputId": "cbc7d430-43fe-4654-a04c-b23c6221b79f"
      },
      "execution_count": 203,
      "outputs": [
        {
          "output_type": "stream",
          "name": "stdout",
          "text": [
            "Five is greater than two!\n"
          ]
        }
      ]
    },
    {
      "cell_type": "code",
      "source": [
        "if 5 > 2:\n",
        " print(\"Five is greater than two!\")\n",
        "if 5 > 2:\n",
        "        print(\"Five is greater than two!\")"
      ],
      "metadata": {
        "colab": {
          "base_uri": "https://localhost:8080/"
        },
        "id": "NSfwIX7l_nwo",
        "outputId": "46141409-3dc7-4269-970b-cc879e8662ca"
      },
      "execution_count": 204,
      "outputs": [
        {
          "output_type": "stream",
          "name": "stdout",
          "text": [
            "Five is greater than two!\n",
            "Five is greater than two!\n"
          ]
        }
      ]
    },
    {
      "cell_type": "code",
      "source": [
        "x = 5\n",
        "y = \"Hello, World!\""
      ],
      "metadata": {
        "id": "ZqbgUfI2_vew"
      },
      "execution_count": 205,
      "outputs": []
    },
    {
      "cell_type": "code",
      "source": [
        "#This is a comment.\n",
        "print(\"Hello, World!\")"
      ],
      "metadata": {
        "colab": {
          "base_uri": "https://localhost:8080/"
        },
        "id": "NsMS3gF3__S8",
        "outputId": "c9d8811e-1622-46ab-b239-838bb10582aa"
      },
      "execution_count": 206,
      "outputs": [
        {
          "output_type": "stream",
          "name": "stdout",
          "text": [
            "Hello, World!\n"
          ]
        }
      ]
    },
    {
      "cell_type": "code",
      "source": [
        "\n",
        "#This is a comment\n",
        "#written in\n",
        "#more than just one line\n",
        "print(\"Hello, World!\")"
      ],
      "metadata": {
        "colab": {
          "base_uri": "https://localhost:8080/"
        },
        "id": "CZcP8FLQAW17",
        "outputId": "c19f2882-3f64-4f08-a4bb-d0271d5377a2"
      },
      "execution_count": 207,
      "outputs": [
        {
          "output_type": "stream",
          "name": "stdout",
          "text": [
            "Hello, World!\n"
          ]
        }
      ]
    },
    {
      "cell_type": "code",
      "source": [
        "\"\"\"\n",
        "This is a comment\n",
        "written in\n",
        "more than just one line\n",
        "\"\"\"\n",
        "print(\"Hello, World!\")"
      ],
      "metadata": {
        "colab": {
          "base_uri": "https://localhost:8080/"
        },
        "id": "k5EfXr56AXFJ",
        "outputId": "bcb90d8a-a551-437a-a654-4cd7b13281b7"
      },
      "execution_count": 208,
      "outputs": [
        {
          "output_type": "stream",
          "name": "stdout",
          "text": [
            "Hello, World!\n"
          ]
        }
      ]
    },
    {
      "cell_type": "code",
      "source": [
        "x = 5\n",
        "y = \"John\"\n",
        "print(x)\n",
        "print(y)"
      ],
      "metadata": {
        "id": "X8rJwBvwAYjX",
        "colab": {
          "base_uri": "https://localhost:8080/"
        },
        "outputId": "41246f62-6bef-4f1b-9aa5-ad1b5918f234"
      },
      "execution_count": 209,
      "outputs": [
        {
          "output_type": "stream",
          "name": "stdout",
          "text": [
            "5\n",
            "John\n"
          ]
        }
      ]
    },
    {
      "cell_type": "code",
      "source": [
        "x = 4       # x is of type int\n",
        "x = \"Sally\" # x is now of type str\n",
        "print(x)"
      ],
      "metadata": {
        "id": "H1sxL7A5AY6P",
        "colab": {
          "base_uri": "https://localhost:8080/"
        },
        "outputId": "a4d3baa3-2580-4c95-eddf-745881cec9e6"
      },
      "execution_count": 210,
      "outputs": [
        {
          "output_type": "stream",
          "name": "stdout",
          "text": [
            "Sally\n"
          ]
        }
      ]
    },
    {
      "cell_type": "code",
      "source": [
        "x = str(3)    # x will be '3'\n",
        "y = int(3)    # y will be 3\n",
        "z = float(3)  # z will be 3.0"
      ],
      "metadata": {
        "id": "MkN44GvEAZni"
      },
      "execution_count": 211,
      "outputs": []
    },
    {
      "cell_type": "code",
      "source": [
        "x = 5\n",
        "y = \"John\"\n",
        "print(type(x))\n",
        "print(type(y))"
      ],
      "metadata": {
        "id": "yLEfZtegAaI3",
        "colab": {
          "base_uri": "https://localhost:8080/"
        },
        "outputId": "cd4cc2c5-b5ee-4092-94ed-61d21c0f934d"
      },
      "execution_count": 212,
      "outputs": [
        {
          "output_type": "stream",
          "name": "stdout",
          "text": [
            "<class 'int'>\n",
            "<class 'str'>\n"
          ]
        }
      ]
    },
    {
      "cell_type": "code",
      "source": [
        "x = \"John\"\n",
        "# is the same as\n",
        "x = 'John'"
      ],
      "metadata": {
        "id": "ZqIkfEodAatg"
      },
      "execution_count": 213,
      "outputs": []
    },
    {
      "cell_type": "code",
      "source": [
        "a = 4\n",
        "A = \"Sally\"\n",
        "#A will not overwrite a"
      ],
      "metadata": {
        "id": "tl2wdlLxAbYH"
      },
      "execution_count": 214,
      "outputs": []
    },
    {
      "cell_type": "code",
      "source": [
        "x, y, z = \"Orange\", \"Banana\", \"Cherry\"\n",
        "print(x)\n",
        "print(y)\n",
        "print(z)"
      ],
      "metadata": {
        "id": "OnFgYXkuAWCM",
        "colab": {
          "base_uri": "https://localhost:8080/"
        },
        "outputId": "1705b2d9-2998-4f0d-d97e-977ed17953b2"
      },
      "execution_count": 215,
      "outputs": [
        {
          "output_type": "stream",
          "name": "stdout",
          "text": [
            "Orange\n",
            "Banana\n",
            "Cherry\n"
          ]
        }
      ]
    },
    {
      "cell_type": "code",
      "source": [
        "x = y = z = \"Orange\"\n",
        "print(x)\n",
        "print(y)\n",
        "print(z)"
      ],
      "metadata": {
        "colab": {
          "base_uri": "https://localhost:8080/"
        },
        "id": "cNU6n4bQFNk1",
        "outputId": "872eeee9-b762-4dd4-e9aa-7eae3d791456"
      },
      "execution_count": 216,
      "outputs": [
        {
          "output_type": "stream",
          "name": "stdout",
          "text": [
            "Orange\n",
            "Orange\n",
            "Orange\n"
          ]
        }
      ]
    },
    {
      "cell_type": "code",
      "source": [
        "fruits = [\"apple\", \"banana\", \"cherry\"]\n",
        "x, y, z = fruits\n",
        "print(x)\n",
        "print(y)\n",
        "print(z)"
      ],
      "metadata": {
        "colab": {
          "base_uri": "https://localhost:8080/"
        },
        "id": "ZhP2RsvRFN9_",
        "outputId": "29298005-9f69-4e0f-c211-e8bf53d26c69"
      },
      "execution_count": 217,
      "outputs": [
        {
          "output_type": "stream",
          "name": "stdout",
          "text": [
            "apple\n",
            "banana\n",
            "cherry\n"
          ]
        }
      ]
    },
    {
      "cell_type": "markdown",
      "source": [
        "# Python - Variable Names"
      ],
      "metadata": {
        "id": "819KhHZd9gC8"
      }
    },
    {
      "cell_type": "markdown",
      "source": [
        "<a id='python_variables'>link to this cell\n",
        "</a>\n",
        "\n",
        "<a id='the_destination'></a>"
      ],
      "metadata": {
        "id": "94eXhfRc8pMz"
      }
    },
    {
      "cell_type": "code",
      "source": [
        "#Camel Case\n",
        "# Each word, except the first, starts with a capital letter:\n",
        "\n",
        "myVariableName = \"John\"\n",
        "\n",
        "#Pascal Case\n",
        "#Each word starts with a capital letter:\n",
        "\n",
        "MyVariableName = \"John\"\n",
        "\n",
        "#Snake Case\n",
        "#Each word is separated by an underscore character:\n",
        "\n",
        "my_variable_name = \"John\""
      ],
      "metadata": {
        "id": "ZH5qFBghFO0h"
      },
      "execution_count": 218,
      "outputs": []
    },
    {
      "cell_type": "markdown",
      "source": [
        "## Assign Multiple Values"
      ],
      "metadata": {
        "id": "qJWrth9Y9s4B"
      }
    },
    {
      "cell_type": "code",
      "source": [
        "x, y, z = \"Orange\", \"Banana\", \"Cherry\"\n",
        "print(x)\n",
        "print(y)\n",
        "print(z)"
      ],
      "metadata": {
        "id": "B2qWCLs7FPR6",
        "colab": {
          "base_uri": "https://localhost:8080/"
        },
        "outputId": "cb29ff2c-c467-4bf1-b1fc-1cfcf0292b87"
      },
      "execution_count": 219,
      "outputs": [
        {
          "output_type": "stream",
          "name": "stdout",
          "text": [
            "Orange\n",
            "Banana\n",
            "Cherry\n"
          ]
        }
      ]
    },
    {
      "cell_type": "code",
      "source": [
        "x = y = z = \"Orange\"\n",
        "print(x)\n",
        "print(y)\n",
        "print(z)"
      ],
      "metadata": {
        "id": "H6BMUAluFQHi",
        "colab": {
          "base_uri": "https://localhost:8080/"
        },
        "outputId": "216f836c-53ba-4b2f-c7e5-6e7151b91a5f"
      },
      "execution_count": 220,
      "outputs": [
        {
          "output_type": "stream",
          "name": "stdout",
          "text": [
            "Orange\n",
            "Orange\n",
            "Orange\n"
          ]
        }
      ]
    },
    {
      "cell_type": "code",
      "source": [
        "# list, tuple, set, dictionaries\n",
        "\n",
        "fruits = [\"apple\", \"banana\", \"cherry\"]\n",
        "x, y, z = fruits\n",
        "print(x)\n",
        "print(y)\n",
        "print(z)"
      ],
      "metadata": {
        "id": "9Gx45ArpFQto",
        "colab": {
          "base_uri": "https://localhost:8080/"
        },
        "outputId": "5fbc8d4c-388d-4dc2-e3ff-e8dbcb4721d4"
      },
      "execution_count": 221,
      "outputs": [
        {
          "output_type": "stream",
          "name": "stdout",
          "text": [
            "apple\n",
            "banana\n",
            "cherry\n"
          ]
        }
      ]
    },
    {
      "cell_type": "markdown",
      "source": [
        "## Output Variables"
      ],
      "metadata": {
        "id": "xm70wD-fz_as"
      }
    },
    {
      "cell_type": "code",
      "source": [
        "x = \"Python is awesome\"\n",
        "print(x)"
      ],
      "metadata": {
        "id": "tQ5Bgi05FRL5",
        "colab": {
          "base_uri": "https://localhost:8080/"
        },
        "outputId": "4069e316-8e2e-441f-8bc3-0db6305b0604"
      },
      "execution_count": 222,
      "outputs": [
        {
          "output_type": "stream",
          "name": "stdout",
          "text": [
            "Python is awesome\n"
          ]
        }
      ]
    },
    {
      "cell_type": "code",
      "source": [
        "# Error\n",
        "x = 5\n",
        "y = \"John\"\n",
        "## this will give error\n",
        "## print(x + y)\n",
        "\n",
        "# TypeError: unsupported operand type(s) for +: 'int' and 'str'"
      ],
      "metadata": {
        "id": "yv3zI108FRqR"
      },
      "execution_count": 223,
      "outputs": []
    },
    {
      "cell_type": "code",
      "source": [
        "# separate output variables whem with commas\n",
        "x = 5\n",
        "y = \"John\"\n",
        "print(x, y)"
      ],
      "metadata": {
        "id": "-YaRlcOuFSHE",
        "colab": {
          "base_uri": "https://localhost:8080/"
        },
        "outputId": "0957fc36-6ef9-464c-815b-84f1eb326b5d"
      },
      "execution_count": 224,
      "outputs": [
        {
          "output_type": "stream",
          "name": "stdout",
          "text": [
            "5 John\n"
          ]
        }
      ]
    },
    {
      "cell_type": "markdown",
      "source": [
        "## Global Variables"
      ],
      "metadata": {
        "id": "JCvZorVrEOob"
      }
    },
    {
      "cell_type": "markdown",
      "source": [
        "Variables that are created outside of a function are known as global variables.\n",
        "\n"
      ],
      "metadata": {
        "id": "SzO3M4D_FDZC"
      }
    },
    {
      "cell_type": "code",
      "source": [
        "x = \"awesome\"\n",
        "\n",
        "def myfunc():\n",
        "  print(\"Python is \" + x)\n",
        "\n",
        "myfunc()"
      ],
      "metadata": {
        "id": "qD3qnDXJFSin",
        "colab": {
          "base_uri": "https://localhost:8080/"
        },
        "outputId": "53b1337f-eeda-492e-8ba5-c2a08a56566c"
      },
      "execution_count": 225,
      "outputs": [
        {
          "output_type": "stream",
          "name": "stdout",
          "text": [
            "Python is awesome\n"
          ]
        }
      ]
    },
    {
      "cell_type": "markdown",
      "source": [
        "If you create a variable with the same name inside a function, this variable will be local, and can only be used inside the function"
      ],
      "metadata": {
        "id": "Msxeg_xMFb-t"
      }
    },
    {
      "cell_type": "code",
      "source": [
        "x = \"awesome\"\n",
        "\n",
        "def myfunc():\n",
        "  x = \"fantastic\"\n",
        "  print(\"Python is \" + x)\n",
        "\n",
        "myfunc()\n",
        "\n",
        "print(\"Python is \" + x)"
      ],
      "metadata": {
        "id": "u7V-f3H0FS_x",
        "colab": {
          "base_uri": "https://localhost:8080/"
        },
        "outputId": "79522b06-c086-4f96-c594-5a2f3c140c96"
      },
      "execution_count": 226,
      "outputs": [
        {
          "output_type": "stream",
          "name": "stdout",
          "text": [
            "Python is fantastic\n",
            "Python is awesome\n"
          ]
        }
      ]
    },
    {
      "cell_type": "markdown",
      "source": [
        "To create a global variable inside a function, you can use the global keyword."
      ],
      "metadata": {
        "id": "KaFdynhgGQbR"
      }
    },
    {
      "cell_type": "code",
      "source": [
        "def myfunc():\n",
        "  global x\n",
        "  x = \"fantastic\"\n",
        "\n",
        "myfunc()\n",
        "\n",
        "print(\"Python is \" + x)"
      ],
      "metadata": {
        "id": "4ynF4Jy6FT6y",
        "colab": {
          "base_uri": "https://localhost:8080/"
        },
        "outputId": "78b8e007-134c-41f6-c584-a5724f5fb647"
      },
      "execution_count": 227,
      "outputs": [
        {
          "output_type": "stream",
          "name": "stdout",
          "text": [
            "Python is fantastic\n"
          ]
        }
      ]
    },
    {
      "cell_type": "markdown",
      "source": [
        "Also, use the global keyword if you want to change a global variable inside a function."
      ],
      "metadata": {
        "id": "TUsYehyZHdD1"
      }
    },
    {
      "cell_type": "code",
      "source": [],
      "metadata": {
        "id": "KMkxSjMUGSPs"
      },
      "execution_count": 227,
      "outputs": []
    },
    {
      "cell_type": "code",
      "source": [],
      "metadata": {
        "id": "0qjFzEBcGTFv"
      },
      "execution_count": 227,
      "outputs": []
    },
    {
      "cell_type": "code",
      "source": [],
      "metadata": {
        "id": "WFpIFXbwGTlZ"
      },
      "execution_count": 227,
      "outputs": []
    },
    {
      "cell_type": "code",
      "source": [],
      "metadata": {
        "id": "hGTxNSnkGUDE"
      },
      "execution_count": 227,
      "outputs": []
    },
    {
      "cell_type": "code",
      "source": [],
      "metadata": {
        "id": "obdZuZIyGUkN"
      },
      "execution_count": 227,
      "outputs": []
    }
  ],
  "metadata": {
    "kernelspec": {
      "display_name": "Python 3 (Anaconda)",
      "language": "python",
      "name": "anaconda3"
    },
    "language_info": {
      "codemirror_mode": {
        "name": "ipython",
        "version": 3
      },
      "file_extension": ".py",
      "mimetype": "text/x-python",
      "name": "python",
      "nbconvert_exporter": "python",
      "pygments_lexer": "ipython3",
      "version": "3.5.4"
    },
    "colab": {
      "provenance": [],
      "toc_visible": true,
      "include_colab_link": true
    }
  },
  "nbformat": 4,
  "nbformat_minor": 0
}
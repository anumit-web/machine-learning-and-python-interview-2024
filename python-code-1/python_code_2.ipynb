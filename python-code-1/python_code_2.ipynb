{
  "cells": [
    {
      "cell_type": "markdown",
      "metadata": {
        "id": "view-in-github",
        "colab_type": "text"
      },
      "source": [
        "<a href=\"https://colab.research.google.com/github/anumit-web/python-interview-2024/blob/main/python-code-1/python_code_2.ipynb\" target=\"_parent\"><img src=\"https://colab.research.google.com/assets/colab-badge.svg\" alt=\"Open In Colab\"/></a>"
      ]
    },
    {
      "cell_type": "markdown",
      "source": [
        "# Python interview preparation"
      ],
      "metadata": {
        "id": "e8lzIrkY9qBJ"
      }
    },
    {
      "cell_type": "markdown",
      "source": [
        "#Table of contents\n",
        "\n",
        "# Python Numbers\n",
        "[ (link) ](#python_variables)\n",
        "\n",
        "<a href='#the_destination'>Link to des</a>"
      ],
      "metadata": {
        "id": "62g2UMta3Nx-"
      }
    },
    {
      "cell_type": "code",
      "execution_count": 14,
      "metadata": {
        "id": "3pRBaqLz9atZ"
      },
      "outputs": [],
      "source": [
        "import numpy as np\n",
        "import pandas as pd"
      ]
    },
    {
      "cell_type": "raw",
      "metadata": {
        "collapsed": false,
        "id": "KgtiygFW9ats"
      },
      "source": []
    },
    {
      "cell_type": "code",
      "execution_count": 15,
      "metadata": {
        "colab": {
          "base_uri": "https://localhost:8080/"
        },
        "id": "N0djESK29att",
        "outputId": "ee562fba-f293-4a9b-a092-ef68b05cbd4c"
      },
      "outputs": [
        {
          "output_type": "stream",
          "name": "stdout",
          "text": [
            "Hello, World!\n"
          ]
        }
      ],
      "source": [
        "print(\"Hello, World!\")"
      ]
    },
    {
      "cell_type": "code",
      "source": [
        "import sys\n",
        "\n",
        "print(sys.version)"
      ],
      "metadata": {
        "colab": {
          "base_uri": "https://localhost:8080/"
        },
        "id": "TFXpB4wv-5-1",
        "outputId": "1701f186-0513-4bb2-f553-0c6cf5e2264e"
      },
      "execution_count": 16,
      "outputs": [
        {
          "output_type": "stream",
          "name": "stdout",
          "text": [
            "3.10.12 (main, Sep 11 2024, 15:47:36) [GCC 11.4.0]\n"
          ]
        }
      ]
    },
    {
      "cell_type": "markdown",
      "source": [
        "# Built-in Data Types"
      ],
      "metadata": {
        "id": "819KhHZd9gC8"
      }
    },
    {
      "cell_type": "markdown",
      "source": [
        "<a id='python_variables'>link to this cell\n",
        "</a>\n",
        "\n",
        "<a id='the_destination'></a>"
      ],
      "metadata": {
        "id": "94eXhfRc8pMz"
      }
    },
    {
      "cell_type": "markdown",
      "source": [
        "Python has the following data types built-in by default, in these categories:\n",
        "\n",
        "Text Type:\tstr\n",
        "\n",
        "Numeric Types:\tint, float, complex\n",
        "\n",
        "Sequence Types:\tlist, tuple, range\n",
        "\n",
        "Mapping Type:\tdict\n",
        "\n",
        "Set Types:\tset, frozenset\n",
        "\n",
        "Boolean Type:\tbool\n",
        "\n",
        "Binary Types:\tbytes, bytearray, memoryview\n",
        "\n",
        "None Type:\tNoneType"
      ],
      "metadata": {
        "id": "n0zmTGxVMKLX"
      }
    },
    {
      "cell_type": "markdown",
      "source": [
        "Getting the Data Type"
      ],
      "metadata": {
        "id": "0AyO9ujoNHsS"
      }
    },
    {
      "cell_type": "code",
      "source": [
        "x = 5\n",
        "type(x)\n",
        "print(type(x))"
      ],
      "metadata": {
        "id": "WFpIFXbwGTlZ",
        "colab": {
          "base_uri": "https://localhost:8080/"
        },
        "outputId": "bb849f35-52ae-4f06-ff3d-5356ee38ae38"
      },
      "execution_count": 17,
      "outputs": [
        {
          "output_type": "stream",
          "name": "stdout",
          "text": [
            "<class 'int'>\n"
          ]
        }
      ]
    },
    {
      "cell_type": "markdown",
      "source": [
        "Setting the Data Type\n",
        "\n",
        "x = [\"apple\", \"banana\", \"cherry\"]    \tlist\n",
        "\n",
        "x = (\"apple\", \"banana\", \"cherry\")\t   tuple\n",
        "\n",
        "x = {\"name\" : \"John\", \"age\" : 36}\t    dict\n",
        "\n",
        "x = {\"apple\", \"banana\", \"cherry\"}    \tset"
      ],
      "metadata": {
        "id": "TBGxwgCRPi7f"
      }
    },
    {
      "cell_type": "code",
      "source": [],
      "metadata": {
        "id": "hGTxNSnkGUDE"
      },
      "execution_count": 17,
      "outputs": []
    },
    {
      "cell_type": "markdown",
      "source": [
        "# Python Numbers\n",
        "\n",
        "There are three numeric types in Python:\n",
        "\n",
        "int\n",
        "\n",
        "float\n",
        "\n",
        "complex\n"
      ],
      "metadata": {
        "id": "0Lnu_wseRAYG"
      }
    },
    {
      "cell_type": "code",
      "source": [
        "x = 1\n",
        "print(x)\n",
        "y = 7.8\n",
        "print(y)\n",
        "z = -87.7e100\n",
        "print(z)"
      ],
      "metadata": {
        "id": "obdZuZIyGUkN",
        "colab": {
          "base_uri": "https://localhost:8080/"
        },
        "outputId": "35057fb9-3d88-4fee-fe8d-1c04570e9ae4"
      },
      "execution_count": 18,
      "outputs": [
        {
          "output_type": "stream",
          "name": "stdout",
          "text": [
            "1\n",
            "7.8\n",
            "-8.77e+101\n"
          ]
        }
      ]
    },
    {
      "cell_type": "markdown",
      "source": [
        "## Type Conversion\n",
        "\n",
        "You can convert from one type to another with the int(), float(), and complex() methods:"
      ],
      "metadata": {
        "id": "WYRjlZQEUY_9"
      }
    },
    {
      "cell_type": "code",
      "source": [
        "x = 1    # int\n",
        "y = 2.8  # float\n",
        "\n",
        "print(x)\n",
        "print(y)\n",
        "\n",
        "print(type(x))\n",
        "print(type(y))"
      ],
      "metadata": {
        "id": "XIHZYyMWU1Hy",
        "outputId": "d3aaffe5-0218-4e3c-9c09-beb60cf5acf4",
        "colab": {
          "base_uri": "https://localhost:8080/"
        }
      },
      "execution_count": 19,
      "outputs": [
        {
          "output_type": "stream",
          "name": "stdout",
          "text": [
            "1\n",
            "2.8\n",
            "<class 'int'>\n",
            "<class 'float'>\n"
          ]
        }
      ]
    }
  ],
  "metadata": {
    "kernelspec": {
      "display_name": "Python 3 (Anaconda)",
      "language": "python",
      "name": "anaconda3"
    },
    "language_info": {
      "codemirror_mode": {
        "name": "ipython",
        "version": 3
      },
      "file_extension": ".py",
      "mimetype": "text/x-python",
      "name": "python",
      "nbconvert_exporter": "python",
      "pygments_lexer": "ipython3",
      "version": "3.5.4"
    },
    "colab": {
      "provenance": [],
      "include_colab_link": true
    }
  },
  "nbformat": 4,
  "nbformat_minor": 0
}